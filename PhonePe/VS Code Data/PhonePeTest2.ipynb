{
 "cells": [
  {
   "cell_type": "code",
   "execution_count": 193,
   "metadata": {},
   "outputs": [],
   "source": [
    "import pandas as pd\n",
    "import psycopg2\n",
    "import plotly.express as px\n",
    "import json\n",
    "import requests"
   ]
  },
  {
   "cell_type": "code",
   "execution_count": 357,
   "metadata": {},
   "outputs": [],
   "source": [
    "# data frame Creation\n",
    "\n",
    "# SQL Creation\n",
    "mydb=psycopg2.connect(host='localhost',user='postgres',port='5432',database='PhonePe',password='Password@123')\n",
    "cursor = mydb.cursor()\n",
    "\n",
    "\n",
    "#Aggresgated Insurance Date Frame\n",
    "cursor.execute(\"SELECT * FROM aggr_Insurance\")\n",
    "mydb.commit()\n",
    "table1=cursor.fetchall()\n",
    "\n",
    "\n",
    "aggr_Insurance=pd.DataFrame(table1,columns=(\"States\",\"Years\",\"Quarter\",\"Transaction_Type\",\"Transaction_Count\",\"Transaction_Amount\"))\n",
    "\n",
    "#Aggresgated Transaction Date Frame\n",
    "cursor.execute(\"SELECT * FROM aggregated_Transaction\")\n",
    "mydb.commit()\n",
    "table2=cursor.fetchall()\n",
    "\n",
    "\n",
    "aggregated_Transaction=pd.DataFrame(table2,columns=(\"States\",\"Years\",\"Quarter\",\"Transaction_Type\",\"Transaction_Count\",\"Transaction_Amount\"))\n",
    "\n",
    "#Aggresgated Users Date Frame\n",
    "cursor.execute(\"SELECT * FROM aggregated_User\")\n",
    "mydb.commit()\n",
    "table3=cursor.fetchall()\n",
    "\n",
    "\n",
    "aggregated_Users=pd.DataFrame(table3,columns=(\"States\",\"Years\",\"Quarter\",\"Brands\",\"Transaction_Count\",\"Percentage\"))\n",
    "\n",
    "\n",
    "#map Transaction Date Frame\n",
    "cursor.execute(\"SELECT * FROM map_Trans\")\n",
    "mydb.commit()\n",
    "table4=cursor.fetchall()\n",
    "\n",
    "\n",
    "map_Transaction=pd.DataFrame(table4,columns=(\"States\",\"Years\",\"Quarter\",\"Districts\",\"Transaction_Count\",\"Transaction_Amount\"))\n",
    "\n",
    "\n",
    "#map users Date Frame\n",
    "cursor.execute(\"SELECT * FROM map_Users\")\n",
    "mydb.commit()\n",
    "table5=cursor.fetchall()\n",
    "\n",
    "\n",
    "map_Users=pd.DataFrame(table5,columns=(\"States\",\"Years\",\"Quarter\",\"Districts\",\"Register_User\",\"App_Open\"))\n",
    "\n",
    "\n",
    "#map Insurance Date Frame\n",
    "cursor.execute(\"SELECT * FROM map_Insurance\")\n",
    "mydb.commit()\n",
    "table6=cursor.fetchall()\n",
    "\n",
    "\n",
    "map_Insurance=pd.DataFrame(table6,columns=(\"States\",\"Years\",\"Quarter\",\"Districts\",\"Transaction_Count\",\"Transaction_Amount\"))\n",
    "\n",
    "\n",
    "#top Insurance Date Frame\n",
    "cursor.execute(\"SELECT * FROM top_Insurance\")\n",
    "mydb.commit()\n",
    "table7=cursor.fetchall()\n",
    "\n",
    "\n",
    "top_Insurance=pd.DataFrame(table7,columns=(\"States\",\"Years\",\"Quarter\",\"Pincodes\",\"Transaction_Count\",\"Transaction_Amount\"))\n",
    "\n",
    "#top Transaction Date Frame\n",
    "cursor.execute(\"SELECT * FROM top_Transaction\")\n",
    "mydb.commit()\n",
    "table8=cursor.fetchall()\n",
    "\n",
    "\n",
    "top_Transaction=pd.DataFrame(table8,columns=(\"States\",\"Years\",\"Quarter\",\"Pincodes\",\"Transaction_Count\",\"Transaction_Amount\"))\n",
    "\n",
    "#top user Date Frame\n",
    "cursor.execute(\"SELECT * FROM top_user\")\n",
    "mydb.commit()\n",
    "table9=cursor.fetchall()\n",
    "\n",
    "\n",
    "top_users=pd.DataFrame(table9,columns=(\"States\",\"Years\",\"Quarter\",\"Pincodes\",\"Register_User\"))"
   ]
  },
  {
   "cell_type": "code",
   "execution_count": 374,
   "metadata": {},
   "outputs": [],
   "source": [
    "# SQL Creation\n",
    "def top_chart_transaction_amount(tablename):\n",
    "    mydb=psycopg2.connect(host='localhost',\n",
    "                        user='postgres',\n",
    "                        port='5432',\n",
    "                        database='PhonePe',\n",
    "                        password='Password@123')\n",
    "\n",
    "    cursor = mydb.cursor()\n",
    "\n",
    "    #Top 10 Maxmimum Transaction Amount and States\n",
    "    query_1= f'''select states, SUM(transaction_amount) as transaction_amount \n",
    "                from {tablename}\n",
    "                GROUP BY states\n",
    "                ORDER BY transaction_amount DESC\n",
    "                LIMIT 10;'''\n",
    "\n",
    "    cursor.execute(query_1)\n",
    "    table_1 = cursor.fetchall()\n",
    "    mydb.commit()\n",
    "\n",
    "    df_dataframe_1=pd.DataFrame(table_1, columns=(\"states\", \"transaction_amount\"))\n",
    "\n",
    "\n",
    "    fig_bar_1=px.bar(df_dataframe_1, x=\"states\", y=\"transaction_amount\", title=f\"STATE WISE MAXIMUM TOP 10 TRANSACTION AMOUNT\", \n",
    "                        height=650, width=600, color_discrete_sequence=px.colors.sequential.haline, hover_name=\"states\")\n",
    "    fig_bar_1.show()\n",
    "\n",
    "\n",
    "\n",
    "    #Top 10 Minimum Transaction Amount and States\n",
    "    query_2= f'''select states, SUM(transaction_amount) as transaction_amount \n",
    "                from {tablename}\n",
    "                GROUP BY states\n",
    "                ORDER BY transaction_amount\n",
    "                LIMIT 10;'''\n",
    "\n",
    "    cursor.execute(query_2)\n",
    "    table_2 = cursor.fetchall()\n",
    "    mydb.commit()\n",
    "\n",
    "    df_dataframe_2=pd.DataFrame(table_2, columns=(\"states\", \"transaction_amount\"))\n",
    "\n",
    "\n",
    "    fig_bar_2=px.bar(df_dataframe_2, x=\"states\", y=\"transaction_amount\", title=f\"STATE WISE MINIMUM TOP 10 TRANSACTION AMOUNT\", \n",
    "                        height=650, width=600, color_discrete_sequence=px.colors.sequential.Oranges_r, hover_name=\"states\")\n",
    "    fig_bar_2.show()\n",
    "\n",
    "\n",
    "\n",
    "    #Average Transaction Amount and States\n",
    "    query_3= f'''select states, AVG(transaction_amount) as transaction_amount \n",
    "                from {tablename}\n",
    "                GROUP BY states\n",
    "                ORDER BY transaction_amount;'''\n",
    "\n",
    "    cursor.execute(query_3)\n",
    "    table_3 = cursor.fetchall()\n",
    "    mydb.commit()\n",
    "\n",
    "    df_dataframe_3=pd.DataFrame(table_3, columns=(\"states\", \"transaction_amount\"))\n",
    "\n",
    "\n",
    "    fig_bar_3=px.bar(df_dataframe_3, y=\"states\", x=\"transaction_amount\", title=f\"AVERAGE OF TRANSACTION AMOUNT\", orientation=\"h\",\n",
    "                        height=650, width=800, color_discrete_sequence=px.colors.sequential.Brwnyl_r, hover_name=\"states\")\n",
    "    fig_bar_3.show()\n"
   ]
  },
  {
   "cell_type": "code",
   "execution_count": 381,
   "metadata": {},
   "outputs": [],
   "source": [
    "# SQL Creation\n",
    "def top_chart_transaction_count(tablename):\n",
    "    mydb=psycopg2.connect(host='localhost',\n",
    "                        user='postgres',\n",
    "                        port='5432',\n",
    "                        database='PhonePe',\n",
    "                        password='Password@123')\n",
    "\n",
    "    cursor = mydb.cursor()\n",
    "\n",
    "    #Top 10 Maxmimum Transaction Amount and States\n",
    "    query_1= f'''select states, SUM(transaction_count) as transaction_count \n",
    "                from {tablename}\n",
    "                GROUP BY states\n",
    "                ORDER BY transaction_count DESC\n",
    "                LIMIT 10;'''\n",
    "\n",
    "    cursor.execute(query_1)\n",
    "    table_1 = cursor.fetchall()\n",
    "    mydb.commit()\n",
    "\n",
    "    df_dataframe_1=pd.DataFrame(table_1, columns=(\"states\", \"transaction_count\"))\n",
    "\n",
    "\n",
    "    fig_bar_1=px.bar(df_dataframe_1, x=\"states\", y=\"transaction_count\", title=f\"STATE WISE MAXIMUM TOP 10 TRANSACTION COUNT\", \n",
    "                        height=650, width=600, color_discrete_sequence=px.colors.sequential.haline, hover_name=\"states\")\n",
    "    fig_bar_1.show()\n",
    "\n",
    "\n",
    "\n",
    "    #Top 10 Minimum Transaction Amount and States\n",
    "    query_2= f'''select states, SUM(transaction_count) as transaction_count \n",
    "                from {tablename}\n",
    "                GROUP BY states\n",
    "                ORDER BY transaction_count\n",
    "                LIMIT 10;'''\n",
    "\n",
    "    cursor.execute(query_2)\n",
    "    table_2 = cursor.fetchall()\n",
    "    mydb.commit()\n",
    "\n",
    "    df_dataframe_2=pd.DataFrame(table_2, columns=(\"states\", \"transaction_count\"))\n",
    "\n",
    "\n",
    "    fig_bar_2=px.bar(df_dataframe_2, x=\"states\", y=\"transaction_count\", title=f\"STATE WISE MINIMUM TOP 10 TRANSACTION COUNT\", \n",
    "                        height=650, width=600, color_discrete_sequence=px.colors.sequential.Oranges_r, hover_name=\"states\")\n",
    "    fig_bar_2.show()\n",
    "\n",
    "\n",
    "\n",
    "    #Average Transaction Amount and States\n",
    "    query_3= f'''select states, AVG(transaction_count) as transaction_count \n",
    "                from {tablename}\n",
    "                GROUP BY states\n",
    "                ORDER BY transaction_count;'''\n",
    "\n",
    "    cursor.execute(query_3)\n",
    "    table_3 = cursor.fetchall()\n",
    "    mydb.commit()\n",
    "\n",
    "    df_dataframe_3=pd.DataFrame(table_3, columns=(\"states\", \"transaction_count\"))\n",
    "\n",
    "\n",
    "    fig_bar_3=px.bar(df_dataframe_3, y=\"states\", x=\"transaction_count\", title=f\"AVERAGE OF TRANSACTION COUNT\", orientation=\"h\",\n",
    "                        height=800, width=1000, color_discrete_sequence=px.colors.sequential.Brwnyl_r, hover_name=\"states\")\n",
    "    fig_bar_3.show()\n"
   ]
  },
  {
   "cell_type": "code",
   "execution_count": 385,
   "metadata": {},
   "outputs": [],
   "source": [
    "# SQL Creation\n",
    "def top_chart_regitered_User(tablename, state):\n",
    "    mydb=psycopg2.connect(host='localhost',\n",
    "                        user='postgres',\n",
    "                        port='5432',\n",
    "                        database='PhonePe',\n",
    "                        password='Password@123')\n",
    "\n",
    "    cursor = mydb.cursor()\n",
    "\n",
    "    #Top 10 Maxmimum Transaction Amount and States\n",
    "    query_1= f'''SELECT districts, sum(register_user) as registereduser\n",
    "                FROM {tablename} \n",
    "                WHERE states='{state}'\n",
    "                GROUP BY districts\n",
    "                ORDER BY registereduser DESC \n",
    "                LIMIT 10;'''\n",
    "\n",
    "    cursor.execute(query_1)\n",
    "    table_1 = cursor.fetchall()\n",
    "    mydb.commit()\n",
    "\n",
    "    df_dataframe_1=pd.DataFrame(table_1, columns=(\"districts\", \"register_user\"))\n",
    "\n",
    "\n",
    "    fig_bar_1=px.bar(df_dataframe_1, x=\"districts\", y=\"register_user\", title=f\"DISTRICT WISE TOP 10 REGISTERED USER\", \n",
    "                        height=650, width=600, color_discrete_sequence=px.colors.sequential.haline, hover_name=\"districts\")\n",
    "    fig_bar_1.show()\n",
    "\n",
    "\n",
    "\n",
    "    #Top 10 Minimum Transaction Amount and States\n",
    "    query_2= f'''SELECT districts, sum(register_user) as registereduser\n",
    "                FROM {tablename} \n",
    "                WHERE states='{state}'\n",
    "                GROUP BY districts\n",
    "                ORDER BY registereduser \n",
    "                LIMIT 10;'''\n",
    "\n",
    "    cursor.execute(query_2)\n",
    "    table_2 = cursor.fetchall()\n",
    "    mydb.commit()\n",
    "\n",
    "    df_dataframe_2=pd.DataFrame(table_2, columns=(\"districts\", \"registereduser\"))\n",
    "\n",
    "\n",
    "    fig_bar_2=px.bar(df_dataframe_2, x=\"districts\", y=\"registereduser\", title=f\"DISTRICT WISE LEAST 10 REGISTERED USER\", \n",
    "                        height=650, width=600, color_discrete_sequence=px.colors.sequential.Oranges_r, hover_name=\"districts\")\n",
    "    fig_bar_2.show()\n",
    "\n",
    "\n",
    "\n",
    "    #Average Transaction Amount and States\n",
    "    query_3= f'''SELECT districts, AVG(register_user) as registereduser\n",
    "                FROM  {tablename}  \n",
    "                WHERE states='{state}'\n",
    "                GROUP BY districts\n",
    "                ORDER BY registereduser;'''\n",
    "\n",
    "    cursor.execute(query_3)\n",
    "    table_3 = cursor.fetchall()\n",
    "    mydb.commit()\n",
    "\n",
    "    df_dataframe_3=pd.DataFrame(table_3, columns=(\"districts\", \"registereduser\"))\n",
    "\n",
    "\n",
    "    fig_bar_3=px.bar(df_dataframe_3, y=\"districts\", x=\"registereduser\", title=f\"AVERAGE OF REGISTER USER\", orientation=\"h\",\n",
    "                        height=650, width=800, color_discrete_sequence=px.colors.sequential.Brwnyl_r, hover_name=\"districts\")\n",
    "    fig_bar_3.show()\n"
   ]
  },
  {
   "cell_type": "code",
   "execution_count": 387,
   "metadata": {},
   "outputs": [],
   "source": [
    "# SQL Creation\n",
    "def top_chart_app_opens(tablename, state):\n",
    "    mydb=psycopg2.connect(host='localhost',\n",
    "                        user='postgres',\n",
    "                        port='5432',\n",
    "                        database='PhonePe',\n",
    "                        password='Password@123')\n",
    "\n",
    "    cursor = mydb.cursor()\n",
    "\n",
    "    #Top 10 Maxmimum Transaction Amount and States\n",
    "    query_1= f'''SELECT districts, sum(app_open) as app_open\n",
    "                FROM {tablename} \n",
    "                WHERE states='{state}'\n",
    "                GROUP BY districts\n",
    "                ORDER BY app_open DESC \n",
    "                LIMIT 10;'''\n",
    "\n",
    "    cursor.execute(query_1)\n",
    "    table_1 = cursor.fetchall()\n",
    "    mydb.commit()\n",
    "\n",
    "    df_dataframe_1=pd.DataFrame(table_1, columns=(\"districts\", \"app_open\"))\n",
    "\n",
    "\n",
    "    fig_bar_1=px.bar(df_dataframe_1, x=\"districts\", y=\"app_open\", title=f\"DISTRICT WISE TOP 10 APP OPEN\", \n",
    "                        height=650, width=600, color_discrete_sequence=px.colors.sequential.haline, hover_name=\"districts\")\n",
    "    fig_bar_1.show()\n",
    "\n",
    "\n",
    "\n",
    "    #Top 10 Minimum Transaction Amount and States\n",
    "    query_2= f'''SELECT districts, sum(app_open) as app_open\n",
    "                FROM {tablename} \n",
    "                WHERE states='{state}'\n",
    "                GROUP BY districts\n",
    "                ORDER BY app_open \n",
    "                LIMIT 10;'''\n",
    "\n",
    "    cursor.execute(query_2)\n",
    "    table_2 = cursor.fetchall()\n",
    "    mydb.commit()\n",
    "\n",
    "    df_dataframe_2=pd.DataFrame(table_2, columns=(\"districts\", \"app_open\"))\n",
    "\n",
    "\n",
    "    fig_bar_2=px.bar(df_dataframe_2, x=\"districts\", y=\"app_open\", title=f\"DISTRICT WISE LEAST 10 APP OPEN\", \n",
    "                        height=650, width=600, color_discrete_sequence=px.colors.sequential.Oranges_r, hover_name=\"districts\")\n",
    "    fig_bar_2.show()\n",
    "\n",
    "\n",
    "\n",
    "    #Average Transaction Amount and States\n",
    "    query_3= f'''SELECT districts, AVG(app_open) as app_open\n",
    "                FROM  {tablename}  \n",
    "                WHERE states='{state}'\n",
    "                GROUP BY districts\n",
    "                ORDER BY app_open;'''\n",
    "\n",
    "    cursor.execute(query_3)\n",
    "    table_3 = cursor.fetchall()\n",
    "    mydb.commit()\n",
    "\n",
    "    df_dataframe_3=pd.DataFrame(table_3, columns=(\"districts\", \"app_open\"))\n",
    "\n",
    "\n",
    "    fig_bar_3=px.bar(df_dataframe_3, y=\"districts\", x=\"app_open\", title=f\"AVERAGE OF APP OPEN\", orientation=\"h\",\n",
    "                        height=650, width=800, color_discrete_sequence=px.colors.sequential.Brwnyl_r, hover_name=\"districts\")\n",
    "    fig_bar_3.show()\n"
   ]
  },
  {
   "cell_type": "code",
   "execution_count": 392,
   "metadata": {},
   "outputs": [],
   "source": [
    "# Register user data from top users\n",
    "def top_chart_regitered_User_data(tablename):\n",
    "    mydb=psycopg2.connect(host='localhost',\n",
    "                        user='postgres',\n",
    "                        port='5432',\n",
    "                        database='PhonePe',\n",
    "                        password='Password@123')\n",
    "\n",
    "    cursor = mydb.cursor()\n",
    "\n",
    "    #Top 10 Maxmimum Transaction Amount and States\n",
    "    query_1= f'''select states, sum(register_user) as register_user\n",
    "                from {tablename}\n",
    "                GROUP BY states\n",
    "                ORDER BY register_user DESC\n",
    "                LIMIT 10;'''\n",
    "\n",
    "    cursor.execute(query_1)\n",
    "    table_1 = cursor.fetchall()\n",
    "    mydb.commit()\n",
    "\n",
    "    df_dataframe_1=pd.DataFrame(table_1, columns=(\"states\", \"register_user\"))\n",
    "\n",
    "\n",
    "    fig_bar_1=px.bar(df_dataframe_1, x=\"states\", y=\"register_user\", title=f\"STATE WISE TOP 10 REGISTERED USER\", \n",
    "                        height=650, width=600, color_discrete_sequence=px.colors.sequential.haline, hover_name=\"states\")\n",
    "    fig_bar_1.show()\n",
    "\n",
    "\n",
    "\n",
    "    #Top 10 Minimum Transaction Amount and States\n",
    "    query_2= f'''select states, sum(register_user) as register_user\n",
    "                from {tablename}\n",
    "                GROUP BY states\n",
    "                ORDER BY register_user\n",
    "                LIMIT 10;'''\n",
    "\n",
    "    cursor.execute(query_2)\n",
    "    table_2 = cursor.fetchall()\n",
    "    mydb.commit()\n",
    "\n",
    "    df_dataframe_2=pd.DataFrame(table_2, columns=(\"states\", \"register_user\"))\n",
    "\n",
    "\n",
    "    fig_bar_2=px.bar(df_dataframe_2, x=\"states\", y=\"register_user\", title=f\"STATE WISE LEAST 10 REGISTERED USER\", \n",
    "                        height=650, width=600, color_discrete_sequence=px.colors.sequential.Oranges_r, hover_name=\"states\")\n",
    "    fig_bar_2.show()\n",
    "\n",
    "\n",
    "\n",
    "    #Average Transaction Amount and States\n",
    "    query_3= f'''select states, AVG(register_user) as register_user\n",
    "                from {tablename}\n",
    "                GROUP BY states\n",
    "                ORDER BY register_user\n",
    "                LIMIT 10;'''\n",
    "\n",
    "    cursor.execute(query_3)\n",
    "    table_3 = cursor.fetchall()\n",
    "    mydb.commit()\n",
    "\n",
    "    df_dataframe_3=pd.DataFrame(table_3, columns=(\"states\", \"register_user\"))\n",
    "\n",
    "\n",
    "    fig_bar_3=px.bar(df_dataframe_3, y=\"states\", x=\"register_user\", title=f\"STATE WISE AVERAGE OF REGISTER USER\", orientation=\"h\",\n",
    "                        height=650, width=800, color_discrete_sequence=px.colors.sequential.Brwnyl_r, hover_name=\"states\")\n",
    "    fig_bar_3.show()\n"
   ]
  },
  {
   "cell_type": "code",
   "execution_count": 393,
   "metadata": {},
   "outputs": [
    {
     "data": {
      "application/vnd.plotly.v1+json": {
       "config": {
        "plotlyServerURL": "https://plot.ly"
       },
       "data": [
        {
         "alignmentgroup": "True",
         "hovertemplate": "<b>%{hovertext}</b><br><br>states=%{x}<br>register_user=%{y}<extra></extra>",
         "hovertext": [
          "Delhi",
          "Karnataka",
          "Uttar Pradesh",
          "Maharashtra",
          "Haryana",
          "Telangana",
          "Rajasthan",
          "Gujarat",
          "Madhya Pradesh",
          "Bihar"
         ],
         "legendgroup": "",
         "marker": {
          "color": "rgb(41, 24, 107)",
          "pattern": {
           "shape": ""
          }
         },
         "name": "",
         "offsetgroup": "",
         "orientation": "v",
         "showlegend": false,
         "textposition": "auto",
         "type": "bar",
         "x": [
          "Delhi",
          "Karnataka",
          "Uttar Pradesh",
          "Maharashtra",
          "Haryana",
          "Telangana",
          "Rajasthan",
          "Gujarat",
          "Madhya Pradesh",
          "Bihar"
         ],
         "xaxis": "x",
         "y": [
          69199425,
          64204131,
          61515444,
          61510587,
          52805806,
          50621847,
          46449233,
          38358097,
          36574894,
          33706880
         ],
         "yaxis": "y"
        }
       ],
       "layout": {
        "barmode": "relative",
        "height": 650,
        "legend": {
         "tracegroupgap": 0
        },
        "template": {
         "data": {
          "bar": [
           {
            "error_x": {
             "color": "#2a3f5f"
            },
            "error_y": {
             "color": "#2a3f5f"
            },
            "marker": {
             "line": {
              "color": "#E5ECF6",
              "width": 0.5
             },
             "pattern": {
              "fillmode": "overlay",
              "size": 10,
              "solidity": 0.2
             }
            },
            "type": "bar"
           }
          ],
          "barpolar": [
           {
            "marker": {
             "line": {
              "color": "#E5ECF6",
              "width": 0.5
             },
             "pattern": {
              "fillmode": "overlay",
              "size": 10,
              "solidity": 0.2
             }
            },
            "type": "barpolar"
           }
          ],
          "carpet": [
           {
            "aaxis": {
             "endlinecolor": "#2a3f5f",
             "gridcolor": "white",
             "linecolor": "white",
             "minorgridcolor": "white",
             "startlinecolor": "#2a3f5f"
            },
            "baxis": {
             "endlinecolor": "#2a3f5f",
             "gridcolor": "white",
             "linecolor": "white",
             "minorgridcolor": "white",
             "startlinecolor": "#2a3f5f"
            },
            "type": "carpet"
           }
          ],
          "choropleth": [
           {
            "colorbar": {
             "outlinewidth": 0,
             "ticks": ""
            },
            "type": "choropleth"
           }
          ],
          "contour": [
           {
            "colorbar": {
             "outlinewidth": 0,
             "ticks": ""
            },
            "colorscale": [
             [
              0,
              "#0d0887"
             ],
             [
              0.1111111111111111,
              "#46039f"
             ],
             [
              0.2222222222222222,
              "#7201a8"
             ],
             [
              0.3333333333333333,
              "#9c179e"
             ],
             [
              0.4444444444444444,
              "#bd3786"
             ],
             [
              0.5555555555555556,
              "#d8576b"
             ],
             [
              0.6666666666666666,
              "#ed7953"
             ],
             [
              0.7777777777777778,
              "#fb9f3a"
             ],
             [
              0.8888888888888888,
              "#fdca26"
             ],
             [
              1,
              "#f0f921"
             ]
            ],
            "type": "contour"
           }
          ],
          "contourcarpet": [
           {
            "colorbar": {
             "outlinewidth": 0,
             "ticks": ""
            },
            "type": "contourcarpet"
           }
          ],
          "heatmap": [
           {
            "colorbar": {
             "outlinewidth": 0,
             "ticks": ""
            },
            "colorscale": [
             [
              0,
              "#0d0887"
             ],
             [
              0.1111111111111111,
              "#46039f"
             ],
             [
              0.2222222222222222,
              "#7201a8"
             ],
             [
              0.3333333333333333,
              "#9c179e"
             ],
             [
              0.4444444444444444,
              "#bd3786"
             ],
             [
              0.5555555555555556,
              "#d8576b"
             ],
             [
              0.6666666666666666,
              "#ed7953"
             ],
             [
              0.7777777777777778,
              "#fb9f3a"
             ],
             [
              0.8888888888888888,
              "#fdca26"
             ],
             [
              1,
              "#f0f921"
             ]
            ],
            "type": "heatmap"
           }
          ],
          "heatmapgl": [
           {
            "colorbar": {
             "outlinewidth": 0,
             "ticks": ""
            },
            "colorscale": [
             [
              0,
              "#0d0887"
             ],
             [
              0.1111111111111111,
              "#46039f"
             ],
             [
              0.2222222222222222,
              "#7201a8"
             ],
             [
              0.3333333333333333,
              "#9c179e"
             ],
             [
              0.4444444444444444,
              "#bd3786"
             ],
             [
              0.5555555555555556,
              "#d8576b"
             ],
             [
              0.6666666666666666,
              "#ed7953"
             ],
             [
              0.7777777777777778,
              "#fb9f3a"
             ],
             [
              0.8888888888888888,
              "#fdca26"
             ],
             [
              1,
              "#f0f921"
             ]
            ],
            "type": "heatmapgl"
           }
          ],
          "histogram": [
           {
            "marker": {
             "pattern": {
              "fillmode": "overlay",
              "size": 10,
              "solidity": 0.2
             }
            },
            "type": "histogram"
           }
          ],
          "histogram2d": [
           {
            "colorbar": {
             "outlinewidth": 0,
             "ticks": ""
            },
            "colorscale": [
             [
              0,
              "#0d0887"
             ],
             [
              0.1111111111111111,
              "#46039f"
             ],
             [
              0.2222222222222222,
              "#7201a8"
             ],
             [
              0.3333333333333333,
              "#9c179e"
             ],
             [
              0.4444444444444444,
              "#bd3786"
             ],
             [
              0.5555555555555556,
              "#d8576b"
             ],
             [
              0.6666666666666666,
              "#ed7953"
             ],
             [
              0.7777777777777778,
              "#fb9f3a"
             ],
             [
              0.8888888888888888,
              "#fdca26"
             ],
             [
              1,
              "#f0f921"
             ]
            ],
            "type": "histogram2d"
           }
          ],
          "histogram2dcontour": [
           {
            "colorbar": {
             "outlinewidth": 0,
             "ticks": ""
            },
            "colorscale": [
             [
              0,
              "#0d0887"
             ],
             [
              0.1111111111111111,
              "#46039f"
             ],
             [
              0.2222222222222222,
              "#7201a8"
             ],
             [
              0.3333333333333333,
              "#9c179e"
             ],
             [
              0.4444444444444444,
              "#bd3786"
             ],
             [
              0.5555555555555556,
              "#d8576b"
             ],
             [
              0.6666666666666666,
              "#ed7953"
             ],
             [
              0.7777777777777778,
              "#fb9f3a"
             ],
             [
              0.8888888888888888,
              "#fdca26"
             ],
             [
              1,
              "#f0f921"
             ]
            ],
            "type": "histogram2dcontour"
           }
          ],
          "mesh3d": [
           {
            "colorbar": {
             "outlinewidth": 0,
             "ticks": ""
            },
            "type": "mesh3d"
           }
          ],
          "parcoords": [
           {
            "line": {
             "colorbar": {
              "outlinewidth": 0,
              "ticks": ""
             }
            },
            "type": "parcoords"
           }
          ],
          "pie": [
           {
            "automargin": true,
            "type": "pie"
           }
          ],
          "scatter": [
           {
            "fillpattern": {
             "fillmode": "overlay",
             "size": 10,
             "solidity": 0.2
            },
            "type": "scatter"
           }
          ],
          "scatter3d": [
           {
            "line": {
             "colorbar": {
              "outlinewidth": 0,
              "ticks": ""
             }
            },
            "marker": {
             "colorbar": {
              "outlinewidth": 0,
              "ticks": ""
             }
            },
            "type": "scatter3d"
           }
          ],
          "scattercarpet": [
           {
            "marker": {
             "colorbar": {
              "outlinewidth": 0,
              "ticks": ""
             }
            },
            "type": "scattercarpet"
           }
          ],
          "scattergeo": [
           {
            "marker": {
             "colorbar": {
              "outlinewidth": 0,
              "ticks": ""
             }
            },
            "type": "scattergeo"
           }
          ],
          "scattergl": [
           {
            "marker": {
             "colorbar": {
              "outlinewidth": 0,
              "ticks": ""
             }
            },
            "type": "scattergl"
           }
          ],
          "scattermapbox": [
           {
            "marker": {
             "colorbar": {
              "outlinewidth": 0,
              "ticks": ""
             }
            },
            "type": "scattermapbox"
           }
          ],
          "scatterpolar": [
           {
            "marker": {
             "colorbar": {
              "outlinewidth": 0,
              "ticks": ""
             }
            },
            "type": "scatterpolar"
           }
          ],
          "scatterpolargl": [
           {
            "marker": {
             "colorbar": {
              "outlinewidth": 0,
              "ticks": ""
             }
            },
            "type": "scatterpolargl"
           }
          ],
          "scatterternary": [
           {
            "marker": {
             "colorbar": {
              "outlinewidth": 0,
              "ticks": ""
             }
            },
            "type": "scatterternary"
           }
          ],
          "surface": [
           {
            "colorbar": {
             "outlinewidth": 0,
             "ticks": ""
            },
            "colorscale": [
             [
              0,
              "#0d0887"
             ],
             [
              0.1111111111111111,
              "#46039f"
             ],
             [
              0.2222222222222222,
              "#7201a8"
             ],
             [
              0.3333333333333333,
              "#9c179e"
             ],
             [
              0.4444444444444444,
              "#bd3786"
             ],
             [
              0.5555555555555556,
              "#d8576b"
             ],
             [
              0.6666666666666666,
              "#ed7953"
             ],
             [
              0.7777777777777778,
              "#fb9f3a"
             ],
             [
              0.8888888888888888,
              "#fdca26"
             ],
             [
              1,
              "#f0f921"
             ]
            ],
            "type": "surface"
           }
          ],
          "table": [
           {
            "cells": {
             "fill": {
              "color": "#EBF0F8"
             },
             "line": {
              "color": "white"
             }
            },
            "header": {
             "fill": {
              "color": "#C8D4E3"
             },
             "line": {
              "color": "white"
             }
            },
            "type": "table"
           }
          ]
         },
         "layout": {
          "annotationdefaults": {
           "arrowcolor": "#2a3f5f",
           "arrowhead": 0,
           "arrowwidth": 1
          },
          "autotypenumbers": "strict",
          "coloraxis": {
           "colorbar": {
            "outlinewidth": 0,
            "ticks": ""
           }
          },
          "colorscale": {
           "diverging": [
            [
             0,
             "#8e0152"
            ],
            [
             0.1,
             "#c51b7d"
            ],
            [
             0.2,
             "#de77ae"
            ],
            [
             0.3,
             "#f1b6da"
            ],
            [
             0.4,
             "#fde0ef"
            ],
            [
             0.5,
             "#f7f7f7"
            ],
            [
             0.6,
             "#e6f5d0"
            ],
            [
             0.7,
             "#b8e186"
            ],
            [
             0.8,
             "#7fbc41"
            ],
            [
             0.9,
             "#4d9221"
            ],
            [
             1,
             "#276419"
            ]
           ],
           "sequential": [
            [
             0,
             "#0d0887"
            ],
            [
             0.1111111111111111,
             "#46039f"
            ],
            [
             0.2222222222222222,
             "#7201a8"
            ],
            [
             0.3333333333333333,
             "#9c179e"
            ],
            [
             0.4444444444444444,
             "#bd3786"
            ],
            [
             0.5555555555555556,
             "#d8576b"
            ],
            [
             0.6666666666666666,
             "#ed7953"
            ],
            [
             0.7777777777777778,
             "#fb9f3a"
            ],
            [
             0.8888888888888888,
             "#fdca26"
            ],
            [
             1,
             "#f0f921"
            ]
           ],
           "sequentialminus": [
            [
             0,
             "#0d0887"
            ],
            [
             0.1111111111111111,
             "#46039f"
            ],
            [
             0.2222222222222222,
             "#7201a8"
            ],
            [
             0.3333333333333333,
             "#9c179e"
            ],
            [
             0.4444444444444444,
             "#bd3786"
            ],
            [
             0.5555555555555556,
             "#d8576b"
            ],
            [
             0.6666666666666666,
             "#ed7953"
            ],
            [
             0.7777777777777778,
             "#fb9f3a"
            ],
            [
             0.8888888888888888,
             "#fdca26"
            ],
            [
             1,
             "#f0f921"
            ]
           ]
          },
          "colorway": [
           "#636efa",
           "#EF553B",
           "#00cc96",
           "#ab63fa",
           "#FFA15A",
           "#19d3f3",
           "#FF6692",
           "#B6E880",
           "#FF97FF",
           "#FECB52"
          ],
          "font": {
           "color": "#2a3f5f"
          },
          "geo": {
           "bgcolor": "white",
           "lakecolor": "white",
           "landcolor": "#E5ECF6",
           "showlakes": true,
           "showland": true,
           "subunitcolor": "white"
          },
          "hoverlabel": {
           "align": "left"
          },
          "hovermode": "closest",
          "mapbox": {
           "style": "light"
          },
          "paper_bgcolor": "white",
          "plot_bgcolor": "#E5ECF6",
          "polar": {
           "angularaxis": {
            "gridcolor": "white",
            "linecolor": "white",
            "ticks": ""
           },
           "bgcolor": "#E5ECF6",
           "radialaxis": {
            "gridcolor": "white",
            "linecolor": "white",
            "ticks": ""
           }
          },
          "scene": {
           "xaxis": {
            "backgroundcolor": "#E5ECF6",
            "gridcolor": "white",
            "gridwidth": 2,
            "linecolor": "white",
            "showbackground": true,
            "ticks": "",
            "zerolinecolor": "white"
           },
           "yaxis": {
            "backgroundcolor": "#E5ECF6",
            "gridcolor": "white",
            "gridwidth": 2,
            "linecolor": "white",
            "showbackground": true,
            "ticks": "",
            "zerolinecolor": "white"
           },
           "zaxis": {
            "backgroundcolor": "#E5ECF6",
            "gridcolor": "white",
            "gridwidth": 2,
            "linecolor": "white",
            "showbackground": true,
            "ticks": "",
            "zerolinecolor": "white"
           }
          },
          "shapedefaults": {
           "line": {
            "color": "#2a3f5f"
           }
          },
          "ternary": {
           "aaxis": {
            "gridcolor": "white",
            "linecolor": "white",
            "ticks": ""
           },
           "baxis": {
            "gridcolor": "white",
            "linecolor": "white",
            "ticks": ""
           },
           "bgcolor": "#E5ECF6",
           "caxis": {
            "gridcolor": "white",
            "linecolor": "white",
            "ticks": ""
           }
          },
          "title": {
           "x": 0.05
          },
          "xaxis": {
           "automargin": true,
           "gridcolor": "white",
           "linecolor": "white",
           "ticks": "",
           "title": {
            "standoff": 15
           },
           "zerolinecolor": "white",
           "zerolinewidth": 2
          },
          "yaxis": {
           "automargin": true,
           "gridcolor": "white",
           "linecolor": "white",
           "ticks": "",
           "title": {
            "standoff": 15
           },
           "zerolinecolor": "white",
           "zerolinewidth": 2
          }
         }
        },
        "title": {
         "text": "STATE WISE TOP 10 REGISTERED USER"
        },
        "width": 600,
        "xaxis": {
         "anchor": "y",
         "domain": [
          0,
          1
         ],
         "title": {
          "text": "states"
         }
        },
        "yaxis": {
         "anchor": "x",
         "domain": [
          0,
          1
         ],
         "title": {
          "text": "register_user"
         }
        }
       }
      }
     },
     "metadata": {},
     "output_type": "display_data"
    },
    {
     "data": {
      "application/vnd.plotly.v1+json": {
       "config": {
        "plotlyServerURL": "https://plot.ly"
       },
       "data": [
        {
         "alignmentgroup": "True",
         "hovertemplate": "<b>%{hovertext}</b><br><br>states=%{x}<br>register_user=%{y}<extra></extra>",
         "hovertext": [
          "Lakshadweep",
          "Andaman & Nicobar",
          "Mizoram",
          "Ladakh",
          "Meghalaya",
          "Nagaland",
          "Sikkim",
          "Arunachal Pradesh",
          "Manipur",
          "Tripura"
         ],
         "legendgroup": "",
         "marker": {
          "color": "rgb(127,39,4)",
          "pattern": {
           "shape": ""
          }
         },
         "name": "",
         "offsetgroup": "",
         "orientation": "v",
         "showlegend": false,
         "textposition": "auto",
         "type": "bar",
         "x": [
          "Lakshadweep",
          "Andaman & Nicobar",
          "Mizoram",
          "Ladakh",
          "Meghalaya",
          "Nagaland",
          "Sikkim",
          "Arunachal Pradesh",
          "Manipur",
          "Tripura"
         ],
         "xaxis": "x",
         "y": [
          102060,
          1108683,
          1247017,
          1503038,
          2185726,
          2863196,
          2929410,
          3220886,
          3472831,
          3697955
         ],
         "yaxis": "y"
        }
       ],
       "layout": {
        "barmode": "relative",
        "height": 650,
        "legend": {
         "tracegroupgap": 0
        },
        "template": {
         "data": {
          "bar": [
           {
            "error_x": {
             "color": "#2a3f5f"
            },
            "error_y": {
             "color": "#2a3f5f"
            },
            "marker": {
             "line": {
              "color": "#E5ECF6",
              "width": 0.5
             },
             "pattern": {
              "fillmode": "overlay",
              "size": 10,
              "solidity": 0.2
             }
            },
            "type": "bar"
           }
          ],
          "barpolar": [
           {
            "marker": {
             "line": {
              "color": "#E5ECF6",
              "width": 0.5
             },
             "pattern": {
              "fillmode": "overlay",
              "size": 10,
              "solidity": 0.2
             }
            },
            "type": "barpolar"
           }
          ],
          "carpet": [
           {
            "aaxis": {
             "endlinecolor": "#2a3f5f",
             "gridcolor": "white",
             "linecolor": "white",
             "minorgridcolor": "white",
             "startlinecolor": "#2a3f5f"
            },
            "baxis": {
             "endlinecolor": "#2a3f5f",
             "gridcolor": "white",
             "linecolor": "white",
             "minorgridcolor": "white",
             "startlinecolor": "#2a3f5f"
            },
            "type": "carpet"
           }
          ],
          "choropleth": [
           {
            "colorbar": {
             "outlinewidth": 0,
             "ticks": ""
            },
            "type": "choropleth"
           }
          ],
          "contour": [
           {
            "colorbar": {
             "outlinewidth": 0,
             "ticks": ""
            },
            "colorscale": [
             [
              0,
              "#0d0887"
             ],
             [
              0.1111111111111111,
              "#46039f"
             ],
             [
              0.2222222222222222,
              "#7201a8"
             ],
             [
              0.3333333333333333,
              "#9c179e"
             ],
             [
              0.4444444444444444,
              "#bd3786"
             ],
             [
              0.5555555555555556,
              "#d8576b"
             ],
             [
              0.6666666666666666,
              "#ed7953"
             ],
             [
              0.7777777777777778,
              "#fb9f3a"
             ],
             [
              0.8888888888888888,
              "#fdca26"
             ],
             [
              1,
              "#f0f921"
             ]
            ],
            "type": "contour"
           }
          ],
          "contourcarpet": [
           {
            "colorbar": {
             "outlinewidth": 0,
             "ticks": ""
            },
            "type": "contourcarpet"
           }
          ],
          "heatmap": [
           {
            "colorbar": {
             "outlinewidth": 0,
             "ticks": ""
            },
            "colorscale": [
             [
              0,
              "#0d0887"
             ],
             [
              0.1111111111111111,
              "#46039f"
             ],
             [
              0.2222222222222222,
              "#7201a8"
             ],
             [
              0.3333333333333333,
              "#9c179e"
             ],
             [
              0.4444444444444444,
              "#bd3786"
             ],
             [
              0.5555555555555556,
              "#d8576b"
             ],
             [
              0.6666666666666666,
              "#ed7953"
             ],
             [
              0.7777777777777778,
              "#fb9f3a"
             ],
             [
              0.8888888888888888,
              "#fdca26"
             ],
             [
              1,
              "#f0f921"
             ]
            ],
            "type": "heatmap"
           }
          ],
          "heatmapgl": [
           {
            "colorbar": {
             "outlinewidth": 0,
             "ticks": ""
            },
            "colorscale": [
             [
              0,
              "#0d0887"
             ],
             [
              0.1111111111111111,
              "#46039f"
             ],
             [
              0.2222222222222222,
              "#7201a8"
             ],
             [
              0.3333333333333333,
              "#9c179e"
             ],
             [
              0.4444444444444444,
              "#bd3786"
             ],
             [
              0.5555555555555556,
              "#d8576b"
             ],
             [
              0.6666666666666666,
              "#ed7953"
             ],
             [
              0.7777777777777778,
              "#fb9f3a"
             ],
             [
              0.8888888888888888,
              "#fdca26"
             ],
             [
              1,
              "#f0f921"
             ]
            ],
            "type": "heatmapgl"
           }
          ],
          "histogram": [
           {
            "marker": {
             "pattern": {
              "fillmode": "overlay",
              "size": 10,
              "solidity": 0.2
             }
            },
            "type": "histogram"
           }
          ],
          "histogram2d": [
           {
            "colorbar": {
             "outlinewidth": 0,
             "ticks": ""
            },
            "colorscale": [
             [
              0,
              "#0d0887"
             ],
             [
              0.1111111111111111,
              "#46039f"
             ],
             [
              0.2222222222222222,
              "#7201a8"
             ],
             [
              0.3333333333333333,
              "#9c179e"
             ],
             [
              0.4444444444444444,
              "#bd3786"
             ],
             [
              0.5555555555555556,
              "#d8576b"
             ],
             [
              0.6666666666666666,
              "#ed7953"
             ],
             [
              0.7777777777777778,
              "#fb9f3a"
             ],
             [
              0.8888888888888888,
              "#fdca26"
             ],
             [
              1,
              "#f0f921"
             ]
            ],
            "type": "histogram2d"
           }
          ],
          "histogram2dcontour": [
           {
            "colorbar": {
             "outlinewidth": 0,
             "ticks": ""
            },
            "colorscale": [
             [
              0,
              "#0d0887"
             ],
             [
              0.1111111111111111,
              "#46039f"
             ],
             [
              0.2222222222222222,
              "#7201a8"
             ],
             [
              0.3333333333333333,
              "#9c179e"
             ],
             [
              0.4444444444444444,
              "#bd3786"
             ],
             [
              0.5555555555555556,
              "#d8576b"
             ],
             [
              0.6666666666666666,
              "#ed7953"
             ],
             [
              0.7777777777777778,
              "#fb9f3a"
             ],
             [
              0.8888888888888888,
              "#fdca26"
             ],
             [
              1,
              "#f0f921"
             ]
            ],
            "type": "histogram2dcontour"
           }
          ],
          "mesh3d": [
           {
            "colorbar": {
             "outlinewidth": 0,
             "ticks": ""
            },
            "type": "mesh3d"
           }
          ],
          "parcoords": [
           {
            "line": {
             "colorbar": {
              "outlinewidth": 0,
              "ticks": ""
             }
            },
            "type": "parcoords"
           }
          ],
          "pie": [
           {
            "automargin": true,
            "type": "pie"
           }
          ],
          "scatter": [
           {
            "fillpattern": {
             "fillmode": "overlay",
             "size": 10,
             "solidity": 0.2
            },
            "type": "scatter"
           }
          ],
          "scatter3d": [
           {
            "line": {
             "colorbar": {
              "outlinewidth": 0,
              "ticks": ""
             }
            },
            "marker": {
             "colorbar": {
              "outlinewidth": 0,
              "ticks": ""
             }
            },
            "type": "scatter3d"
           }
          ],
          "scattercarpet": [
           {
            "marker": {
             "colorbar": {
              "outlinewidth": 0,
              "ticks": ""
             }
            },
            "type": "scattercarpet"
           }
          ],
          "scattergeo": [
           {
            "marker": {
             "colorbar": {
              "outlinewidth": 0,
              "ticks": ""
             }
            },
            "type": "scattergeo"
           }
          ],
          "scattergl": [
           {
            "marker": {
             "colorbar": {
              "outlinewidth": 0,
              "ticks": ""
             }
            },
            "type": "scattergl"
           }
          ],
          "scattermapbox": [
           {
            "marker": {
             "colorbar": {
              "outlinewidth": 0,
              "ticks": ""
             }
            },
            "type": "scattermapbox"
           }
          ],
          "scatterpolar": [
           {
            "marker": {
             "colorbar": {
              "outlinewidth": 0,
              "ticks": ""
             }
            },
            "type": "scatterpolar"
           }
          ],
          "scatterpolargl": [
           {
            "marker": {
             "colorbar": {
              "outlinewidth": 0,
              "ticks": ""
             }
            },
            "type": "scatterpolargl"
           }
          ],
          "scatterternary": [
           {
            "marker": {
             "colorbar": {
              "outlinewidth": 0,
              "ticks": ""
             }
            },
            "type": "scatterternary"
           }
          ],
          "surface": [
           {
            "colorbar": {
             "outlinewidth": 0,
             "ticks": ""
            },
            "colorscale": [
             [
              0,
              "#0d0887"
             ],
             [
              0.1111111111111111,
              "#46039f"
             ],
             [
              0.2222222222222222,
              "#7201a8"
             ],
             [
              0.3333333333333333,
              "#9c179e"
             ],
             [
              0.4444444444444444,
              "#bd3786"
             ],
             [
              0.5555555555555556,
              "#d8576b"
             ],
             [
              0.6666666666666666,
              "#ed7953"
             ],
             [
              0.7777777777777778,
              "#fb9f3a"
             ],
             [
              0.8888888888888888,
              "#fdca26"
             ],
             [
              1,
              "#f0f921"
             ]
            ],
            "type": "surface"
           }
          ],
          "table": [
           {
            "cells": {
             "fill": {
              "color": "#EBF0F8"
             },
             "line": {
              "color": "white"
             }
            },
            "header": {
             "fill": {
              "color": "#C8D4E3"
             },
             "line": {
              "color": "white"
             }
            },
            "type": "table"
           }
          ]
         },
         "layout": {
          "annotationdefaults": {
           "arrowcolor": "#2a3f5f",
           "arrowhead": 0,
           "arrowwidth": 1
          },
          "autotypenumbers": "strict",
          "coloraxis": {
           "colorbar": {
            "outlinewidth": 0,
            "ticks": ""
           }
          },
          "colorscale": {
           "diverging": [
            [
             0,
             "#8e0152"
            ],
            [
             0.1,
             "#c51b7d"
            ],
            [
             0.2,
             "#de77ae"
            ],
            [
             0.3,
             "#f1b6da"
            ],
            [
             0.4,
             "#fde0ef"
            ],
            [
             0.5,
             "#f7f7f7"
            ],
            [
             0.6,
             "#e6f5d0"
            ],
            [
             0.7,
             "#b8e186"
            ],
            [
             0.8,
             "#7fbc41"
            ],
            [
             0.9,
             "#4d9221"
            ],
            [
             1,
             "#276419"
            ]
           ],
           "sequential": [
            [
             0,
             "#0d0887"
            ],
            [
             0.1111111111111111,
             "#46039f"
            ],
            [
             0.2222222222222222,
             "#7201a8"
            ],
            [
             0.3333333333333333,
             "#9c179e"
            ],
            [
             0.4444444444444444,
             "#bd3786"
            ],
            [
             0.5555555555555556,
             "#d8576b"
            ],
            [
             0.6666666666666666,
             "#ed7953"
            ],
            [
             0.7777777777777778,
             "#fb9f3a"
            ],
            [
             0.8888888888888888,
             "#fdca26"
            ],
            [
             1,
             "#f0f921"
            ]
           ],
           "sequentialminus": [
            [
             0,
             "#0d0887"
            ],
            [
             0.1111111111111111,
             "#46039f"
            ],
            [
             0.2222222222222222,
             "#7201a8"
            ],
            [
             0.3333333333333333,
             "#9c179e"
            ],
            [
             0.4444444444444444,
             "#bd3786"
            ],
            [
             0.5555555555555556,
             "#d8576b"
            ],
            [
             0.6666666666666666,
             "#ed7953"
            ],
            [
             0.7777777777777778,
             "#fb9f3a"
            ],
            [
             0.8888888888888888,
             "#fdca26"
            ],
            [
             1,
             "#f0f921"
            ]
           ]
          },
          "colorway": [
           "#636efa",
           "#EF553B",
           "#00cc96",
           "#ab63fa",
           "#FFA15A",
           "#19d3f3",
           "#FF6692",
           "#B6E880",
           "#FF97FF",
           "#FECB52"
          ],
          "font": {
           "color": "#2a3f5f"
          },
          "geo": {
           "bgcolor": "white",
           "lakecolor": "white",
           "landcolor": "#E5ECF6",
           "showlakes": true,
           "showland": true,
           "subunitcolor": "white"
          },
          "hoverlabel": {
           "align": "left"
          },
          "hovermode": "closest",
          "mapbox": {
           "style": "light"
          },
          "paper_bgcolor": "white",
          "plot_bgcolor": "#E5ECF6",
          "polar": {
           "angularaxis": {
            "gridcolor": "white",
            "linecolor": "white",
            "ticks": ""
           },
           "bgcolor": "#E5ECF6",
           "radialaxis": {
            "gridcolor": "white",
            "linecolor": "white",
            "ticks": ""
           }
          },
          "scene": {
           "xaxis": {
            "backgroundcolor": "#E5ECF6",
            "gridcolor": "white",
            "gridwidth": 2,
            "linecolor": "white",
            "showbackground": true,
            "ticks": "",
            "zerolinecolor": "white"
           },
           "yaxis": {
            "backgroundcolor": "#E5ECF6",
            "gridcolor": "white",
            "gridwidth": 2,
            "linecolor": "white",
            "showbackground": true,
            "ticks": "",
            "zerolinecolor": "white"
           },
           "zaxis": {
            "backgroundcolor": "#E5ECF6",
            "gridcolor": "white",
            "gridwidth": 2,
            "linecolor": "white",
            "showbackground": true,
            "ticks": "",
            "zerolinecolor": "white"
           }
          },
          "shapedefaults": {
           "line": {
            "color": "#2a3f5f"
           }
          },
          "ternary": {
           "aaxis": {
            "gridcolor": "white",
            "linecolor": "white",
            "ticks": ""
           },
           "baxis": {
            "gridcolor": "white",
            "linecolor": "white",
            "ticks": ""
           },
           "bgcolor": "#E5ECF6",
           "caxis": {
            "gridcolor": "white",
            "linecolor": "white",
            "ticks": ""
           }
          },
          "title": {
           "x": 0.05
          },
          "xaxis": {
           "automargin": true,
           "gridcolor": "white",
           "linecolor": "white",
           "ticks": "",
           "title": {
            "standoff": 15
           },
           "zerolinecolor": "white",
           "zerolinewidth": 2
          },
          "yaxis": {
           "automargin": true,
           "gridcolor": "white",
           "linecolor": "white",
           "ticks": "",
           "title": {
            "standoff": 15
           },
           "zerolinecolor": "white",
           "zerolinewidth": 2
          }
         }
        },
        "title": {
         "text": "STATE WISE LEAST 10 REGISTERED USER"
        },
        "width": 600,
        "xaxis": {
         "anchor": "y",
         "domain": [
          0,
          1
         ],
         "title": {
          "text": "states"
         }
        },
        "yaxis": {
         "anchor": "x",
         "domain": [
          0,
          1
         ],
         "title": {
          "text": "register_user"
         }
        }
       }
      }
     },
     "metadata": {},
     "output_type": "display_data"
    },
    {
     "data": {
      "application/vnd.plotly.v1+json": {
       "config": {
        "plotlyServerURL": "https://plot.ly"
       },
       "data": [
        {
         "alignmentgroup": "True",
         "hovertemplate": "<b>%{hovertext}</b><br><br>register_user=%{x}<br>states=%{y}<extra></extra>",
         "hovertext": [
          "Lakshadweep",
          "Andaman & Nicobar",
          "Mizoram",
          "Ladakh",
          "Meghalaya",
          "Nagaland",
          "Sikkim",
          "Arunachal Pradesh",
          "Manipur",
          "Tripura"
         ],
         "legendgroup": "",
         "marker": {
          "color": "rgb(84, 31, 63)",
          "pattern": {
           "shape": ""
          }
         },
         "name": "",
         "offsetgroup": "",
         "orientation": "h",
         "showlegend": false,
         "textposition": "auto",
         "type": "bar",
         "x": [
          531.5625,
          4619.5125,
          5195.904166666666,
          6262.658333333334,
          9107.191666666668,
          11929.983333333334,
          12205.875,
          13420.358333333334,
          14470.129166666668,
          15408.145833333332
         ],
         "xaxis": "x",
         "y": [
          "Lakshadweep",
          "Andaman & Nicobar",
          "Mizoram",
          "Ladakh",
          "Meghalaya",
          "Nagaland",
          "Sikkim",
          "Arunachal Pradesh",
          "Manipur",
          "Tripura"
         ],
         "yaxis": "y"
        }
       ],
       "layout": {
        "barmode": "relative",
        "height": 650,
        "legend": {
         "tracegroupgap": 0
        },
        "template": {
         "data": {
          "bar": [
           {
            "error_x": {
             "color": "#2a3f5f"
            },
            "error_y": {
             "color": "#2a3f5f"
            },
            "marker": {
             "line": {
              "color": "#E5ECF6",
              "width": 0.5
             },
             "pattern": {
              "fillmode": "overlay",
              "size": 10,
              "solidity": 0.2
             }
            },
            "type": "bar"
           }
          ],
          "barpolar": [
           {
            "marker": {
             "line": {
              "color": "#E5ECF6",
              "width": 0.5
             },
             "pattern": {
              "fillmode": "overlay",
              "size": 10,
              "solidity": 0.2
             }
            },
            "type": "barpolar"
           }
          ],
          "carpet": [
           {
            "aaxis": {
             "endlinecolor": "#2a3f5f",
             "gridcolor": "white",
             "linecolor": "white",
             "minorgridcolor": "white",
             "startlinecolor": "#2a3f5f"
            },
            "baxis": {
             "endlinecolor": "#2a3f5f",
             "gridcolor": "white",
             "linecolor": "white",
             "minorgridcolor": "white",
             "startlinecolor": "#2a3f5f"
            },
            "type": "carpet"
           }
          ],
          "choropleth": [
           {
            "colorbar": {
             "outlinewidth": 0,
             "ticks": ""
            },
            "type": "choropleth"
           }
          ],
          "contour": [
           {
            "colorbar": {
             "outlinewidth": 0,
             "ticks": ""
            },
            "colorscale": [
             [
              0,
              "#0d0887"
             ],
             [
              0.1111111111111111,
              "#46039f"
             ],
             [
              0.2222222222222222,
              "#7201a8"
             ],
             [
              0.3333333333333333,
              "#9c179e"
             ],
             [
              0.4444444444444444,
              "#bd3786"
             ],
             [
              0.5555555555555556,
              "#d8576b"
             ],
             [
              0.6666666666666666,
              "#ed7953"
             ],
             [
              0.7777777777777778,
              "#fb9f3a"
             ],
             [
              0.8888888888888888,
              "#fdca26"
             ],
             [
              1,
              "#f0f921"
             ]
            ],
            "type": "contour"
           }
          ],
          "contourcarpet": [
           {
            "colorbar": {
             "outlinewidth": 0,
             "ticks": ""
            },
            "type": "contourcarpet"
           }
          ],
          "heatmap": [
           {
            "colorbar": {
             "outlinewidth": 0,
             "ticks": ""
            },
            "colorscale": [
             [
              0,
              "#0d0887"
             ],
             [
              0.1111111111111111,
              "#46039f"
             ],
             [
              0.2222222222222222,
              "#7201a8"
             ],
             [
              0.3333333333333333,
              "#9c179e"
             ],
             [
              0.4444444444444444,
              "#bd3786"
             ],
             [
              0.5555555555555556,
              "#d8576b"
             ],
             [
              0.6666666666666666,
              "#ed7953"
             ],
             [
              0.7777777777777778,
              "#fb9f3a"
             ],
             [
              0.8888888888888888,
              "#fdca26"
             ],
             [
              1,
              "#f0f921"
             ]
            ],
            "type": "heatmap"
           }
          ],
          "heatmapgl": [
           {
            "colorbar": {
             "outlinewidth": 0,
             "ticks": ""
            },
            "colorscale": [
             [
              0,
              "#0d0887"
             ],
             [
              0.1111111111111111,
              "#46039f"
             ],
             [
              0.2222222222222222,
              "#7201a8"
             ],
             [
              0.3333333333333333,
              "#9c179e"
             ],
             [
              0.4444444444444444,
              "#bd3786"
             ],
             [
              0.5555555555555556,
              "#d8576b"
             ],
             [
              0.6666666666666666,
              "#ed7953"
             ],
             [
              0.7777777777777778,
              "#fb9f3a"
             ],
             [
              0.8888888888888888,
              "#fdca26"
             ],
             [
              1,
              "#f0f921"
             ]
            ],
            "type": "heatmapgl"
           }
          ],
          "histogram": [
           {
            "marker": {
             "pattern": {
              "fillmode": "overlay",
              "size": 10,
              "solidity": 0.2
             }
            },
            "type": "histogram"
           }
          ],
          "histogram2d": [
           {
            "colorbar": {
             "outlinewidth": 0,
             "ticks": ""
            },
            "colorscale": [
             [
              0,
              "#0d0887"
             ],
             [
              0.1111111111111111,
              "#46039f"
             ],
             [
              0.2222222222222222,
              "#7201a8"
             ],
             [
              0.3333333333333333,
              "#9c179e"
             ],
             [
              0.4444444444444444,
              "#bd3786"
             ],
             [
              0.5555555555555556,
              "#d8576b"
             ],
             [
              0.6666666666666666,
              "#ed7953"
             ],
             [
              0.7777777777777778,
              "#fb9f3a"
             ],
             [
              0.8888888888888888,
              "#fdca26"
             ],
             [
              1,
              "#f0f921"
             ]
            ],
            "type": "histogram2d"
           }
          ],
          "histogram2dcontour": [
           {
            "colorbar": {
             "outlinewidth": 0,
             "ticks": ""
            },
            "colorscale": [
             [
              0,
              "#0d0887"
             ],
             [
              0.1111111111111111,
              "#46039f"
             ],
             [
              0.2222222222222222,
              "#7201a8"
             ],
             [
              0.3333333333333333,
              "#9c179e"
             ],
             [
              0.4444444444444444,
              "#bd3786"
             ],
             [
              0.5555555555555556,
              "#d8576b"
             ],
             [
              0.6666666666666666,
              "#ed7953"
             ],
             [
              0.7777777777777778,
              "#fb9f3a"
             ],
             [
              0.8888888888888888,
              "#fdca26"
             ],
             [
              1,
              "#f0f921"
             ]
            ],
            "type": "histogram2dcontour"
           }
          ],
          "mesh3d": [
           {
            "colorbar": {
             "outlinewidth": 0,
             "ticks": ""
            },
            "type": "mesh3d"
           }
          ],
          "parcoords": [
           {
            "line": {
             "colorbar": {
              "outlinewidth": 0,
              "ticks": ""
             }
            },
            "type": "parcoords"
           }
          ],
          "pie": [
           {
            "automargin": true,
            "type": "pie"
           }
          ],
          "scatter": [
           {
            "fillpattern": {
             "fillmode": "overlay",
             "size": 10,
             "solidity": 0.2
            },
            "type": "scatter"
           }
          ],
          "scatter3d": [
           {
            "line": {
             "colorbar": {
              "outlinewidth": 0,
              "ticks": ""
             }
            },
            "marker": {
             "colorbar": {
              "outlinewidth": 0,
              "ticks": ""
             }
            },
            "type": "scatter3d"
           }
          ],
          "scattercarpet": [
           {
            "marker": {
             "colorbar": {
              "outlinewidth": 0,
              "ticks": ""
             }
            },
            "type": "scattercarpet"
           }
          ],
          "scattergeo": [
           {
            "marker": {
             "colorbar": {
              "outlinewidth": 0,
              "ticks": ""
             }
            },
            "type": "scattergeo"
           }
          ],
          "scattergl": [
           {
            "marker": {
             "colorbar": {
              "outlinewidth": 0,
              "ticks": ""
             }
            },
            "type": "scattergl"
           }
          ],
          "scattermapbox": [
           {
            "marker": {
             "colorbar": {
              "outlinewidth": 0,
              "ticks": ""
             }
            },
            "type": "scattermapbox"
           }
          ],
          "scatterpolar": [
           {
            "marker": {
             "colorbar": {
              "outlinewidth": 0,
              "ticks": ""
             }
            },
            "type": "scatterpolar"
           }
          ],
          "scatterpolargl": [
           {
            "marker": {
             "colorbar": {
              "outlinewidth": 0,
              "ticks": ""
             }
            },
            "type": "scatterpolargl"
           }
          ],
          "scatterternary": [
           {
            "marker": {
             "colorbar": {
              "outlinewidth": 0,
              "ticks": ""
             }
            },
            "type": "scatterternary"
           }
          ],
          "surface": [
           {
            "colorbar": {
             "outlinewidth": 0,
             "ticks": ""
            },
            "colorscale": [
             [
              0,
              "#0d0887"
             ],
             [
              0.1111111111111111,
              "#46039f"
             ],
             [
              0.2222222222222222,
              "#7201a8"
             ],
             [
              0.3333333333333333,
              "#9c179e"
             ],
             [
              0.4444444444444444,
              "#bd3786"
             ],
             [
              0.5555555555555556,
              "#d8576b"
             ],
             [
              0.6666666666666666,
              "#ed7953"
             ],
             [
              0.7777777777777778,
              "#fb9f3a"
             ],
             [
              0.8888888888888888,
              "#fdca26"
             ],
             [
              1,
              "#f0f921"
             ]
            ],
            "type": "surface"
           }
          ],
          "table": [
           {
            "cells": {
             "fill": {
              "color": "#EBF0F8"
             },
             "line": {
              "color": "white"
             }
            },
            "header": {
             "fill": {
              "color": "#C8D4E3"
             },
             "line": {
              "color": "white"
             }
            },
            "type": "table"
           }
          ]
         },
         "layout": {
          "annotationdefaults": {
           "arrowcolor": "#2a3f5f",
           "arrowhead": 0,
           "arrowwidth": 1
          },
          "autotypenumbers": "strict",
          "coloraxis": {
           "colorbar": {
            "outlinewidth": 0,
            "ticks": ""
           }
          },
          "colorscale": {
           "diverging": [
            [
             0,
             "#8e0152"
            ],
            [
             0.1,
             "#c51b7d"
            ],
            [
             0.2,
             "#de77ae"
            ],
            [
             0.3,
             "#f1b6da"
            ],
            [
             0.4,
             "#fde0ef"
            ],
            [
             0.5,
             "#f7f7f7"
            ],
            [
             0.6,
             "#e6f5d0"
            ],
            [
             0.7,
             "#b8e186"
            ],
            [
             0.8,
             "#7fbc41"
            ],
            [
             0.9,
             "#4d9221"
            ],
            [
             1,
             "#276419"
            ]
           ],
           "sequential": [
            [
             0,
             "#0d0887"
            ],
            [
             0.1111111111111111,
             "#46039f"
            ],
            [
             0.2222222222222222,
             "#7201a8"
            ],
            [
             0.3333333333333333,
             "#9c179e"
            ],
            [
             0.4444444444444444,
             "#bd3786"
            ],
            [
             0.5555555555555556,
             "#d8576b"
            ],
            [
             0.6666666666666666,
             "#ed7953"
            ],
            [
             0.7777777777777778,
             "#fb9f3a"
            ],
            [
             0.8888888888888888,
             "#fdca26"
            ],
            [
             1,
             "#f0f921"
            ]
           ],
           "sequentialminus": [
            [
             0,
             "#0d0887"
            ],
            [
             0.1111111111111111,
             "#46039f"
            ],
            [
             0.2222222222222222,
             "#7201a8"
            ],
            [
             0.3333333333333333,
             "#9c179e"
            ],
            [
             0.4444444444444444,
             "#bd3786"
            ],
            [
             0.5555555555555556,
             "#d8576b"
            ],
            [
             0.6666666666666666,
             "#ed7953"
            ],
            [
             0.7777777777777778,
             "#fb9f3a"
            ],
            [
             0.8888888888888888,
             "#fdca26"
            ],
            [
             1,
             "#f0f921"
            ]
           ]
          },
          "colorway": [
           "#636efa",
           "#EF553B",
           "#00cc96",
           "#ab63fa",
           "#FFA15A",
           "#19d3f3",
           "#FF6692",
           "#B6E880",
           "#FF97FF",
           "#FECB52"
          ],
          "font": {
           "color": "#2a3f5f"
          },
          "geo": {
           "bgcolor": "white",
           "lakecolor": "white",
           "landcolor": "#E5ECF6",
           "showlakes": true,
           "showland": true,
           "subunitcolor": "white"
          },
          "hoverlabel": {
           "align": "left"
          },
          "hovermode": "closest",
          "mapbox": {
           "style": "light"
          },
          "paper_bgcolor": "white",
          "plot_bgcolor": "#E5ECF6",
          "polar": {
           "angularaxis": {
            "gridcolor": "white",
            "linecolor": "white",
            "ticks": ""
           },
           "bgcolor": "#E5ECF6",
           "radialaxis": {
            "gridcolor": "white",
            "linecolor": "white",
            "ticks": ""
           }
          },
          "scene": {
           "xaxis": {
            "backgroundcolor": "#E5ECF6",
            "gridcolor": "white",
            "gridwidth": 2,
            "linecolor": "white",
            "showbackground": true,
            "ticks": "",
            "zerolinecolor": "white"
           },
           "yaxis": {
            "backgroundcolor": "#E5ECF6",
            "gridcolor": "white",
            "gridwidth": 2,
            "linecolor": "white",
            "showbackground": true,
            "ticks": "",
            "zerolinecolor": "white"
           },
           "zaxis": {
            "backgroundcolor": "#E5ECF6",
            "gridcolor": "white",
            "gridwidth": 2,
            "linecolor": "white",
            "showbackground": true,
            "ticks": "",
            "zerolinecolor": "white"
           }
          },
          "shapedefaults": {
           "line": {
            "color": "#2a3f5f"
           }
          },
          "ternary": {
           "aaxis": {
            "gridcolor": "white",
            "linecolor": "white",
            "ticks": ""
           },
           "baxis": {
            "gridcolor": "white",
            "linecolor": "white",
            "ticks": ""
           },
           "bgcolor": "#E5ECF6",
           "caxis": {
            "gridcolor": "white",
            "linecolor": "white",
            "ticks": ""
           }
          },
          "title": {
           "x": 0.05
          },
          "xaxis": {
           "automargin": true,
           "gridcolor": "white",
           "linecolor": "white",
           "ticks": "",
           "title": {
            "standoff": 15
           },
           "zerolinecolor": "white",
           "zerolinewidth": 2
          },
          "yaxis": {
           "automargin": true,
           "gridcolor": "white",
           "linecolor": "white",
           "ticks": "",
           "title": {
            "standoff": 15
           },
           "zerolinecolor": "white",
           "zerolinewidth": 2
          }
         }
        },
        "title": {
         "text": "STATE WISE AVERAGE OF REGISTER USER"
        },
        "width": 800,
        "xaxis": {
         "anchor": "y",
         "domain": [
          0,
          1
         ],
         "title": {
          "text": "register_user"
         }
        },
        "yaxis": {
         "anchor": "x",
         "domain": [
          0,
          1
         ],
         "title": {
          "text": "states"
         }
        }
       }
      }
     },
     "metadata": {},
     "output_type": "display_data"
    }
   ],
   "source": [
    "top_chart_regitered_User_data(\"top_user\")\n"
   ]
  },
  {
   "cell_type": "code",
   "execution_count": 200,
   "metadata": {},
   "outputs": [],
   "source": [
    "def transaction_amount_count_Y(df,year):\n",
    "\n",
    "    trans_amounta_count_Year=df[df[\"Years\"]==year]\n",
    "    trans_amounta_count_Year.reset_index(drop=True, inplace=True)\n",
    "\n",
    "    trans_amounta_count_Year_Group=trans_amounta_count_Year.groupby(\"States\")[[\"Transaction_Count\",\"Transaction_Amount\"]].sum()\n",
    "    trans_amounta_count_Year_Group.reset_index(inplace=True)\n",
    "\n",
    "    fig_amount=px.bar(trans_amounta_count_Year_Group, x=\"States\", y=\"Transaction_Amount\", title=f\"TRANSACTION AMOUNT - {year}\",\n",
    "                    color_discrete_sequence=px.colors.sequential.Aggrnyl, height=650, width=600)\n",
    "\n",
    "    fig_amount.show()\n",
    "\n",
    "\n",
    "    fig_count=px.bar(trans_amounta_count_Year_Group, x=\"States\", y=\"Transaction_Count\", title=f\"TRANSACTION COUNT - {year}\",\n",
    "                    color_discrete_sequence=px.colors.sequential.Bluered_r, height=650, width=600)\n",
    "\n",
    "    fig_count.show()\n",
    "\n",
    "    url= \"https://gist.githubusercontent.com/jbrobst/56c13bbbf9d97d187fea01ca62ea5112/raw/e388c4cae20aa53cb5090210a42ebb9b765c0a36/india_states.geojson\"\n",
    "    response=requests.get(url)\n",
    "    data1=json.loads(response.content)\n",
    "\n",
    "    states_Name=[]\n",
    "    for feature in data1[\"features\"]:\n",
    "        states_Name.append(feature[\"properties\"][\"ST_NM\"])\n",
    "\n",
    "    states_Name.sort()\n",
    "\n",
    "    fig_india_1=px.choropleth(trans_amounta_count_Year_Group, geojson=data1, locations=\"States\", featureidkey=\"properties.ST_NM\",\n",
    "                            color=\"Transaction_Amount\", color_continuous_scale=\"Rainbow\",\n",
    "                            range_color=(trans_amounta_count_Year_Group[\"Transaction_Amount\"].min(), trans_amounta_count_Year_Group[\"Transaction_Amount\"].max()),\n",
    "                            hover_name=\"States\",title=f\"TRANSACTION AMOUNT - {year}\" , fitbounds=\"locations\", height=600, width=600)\n",
    "    \n",
    "\n",
    "    fig_india_1.update_geos(visible=False)\n",
    "    fig_india_1.show()\n",
    "\n",
    "    fig_india_2=px.choropleth(trans_amounta_count_Year_Group, geojson=data1, locations=\"States\", featureidkey=\"properties.ST_NM\",\n",
    "                            color=\"Transaction_Count\", color_continuous_scale=\"Rainbow\",\n",
    "                            range_color=(trans_amounta_count_Year_Group[\"Transaction_Count\"].min(), trans_amounta_count_Year_Group[\"Transaction_Count\"].max()),\n",
    "                            hover_name=\"States\",title=f\"TRANSACTION COUNT - {year}\" , fitbounds=\"locations\", height=600, width=600)\n",
    "    \n",
    "    fig_india_2.update_geos(visible=False)\n",
    "    fig_india_2.show()\n",
    "\n",
    "\n",
    "    return trans_amounta_count_Year\n"
   ]
  },
  {
   "cell_type": "code",
   "execution_count": null,
   "metadata": {},
   "outputs": [],
   "source": [
    "tac_Y=transaction_amount_count_Y(aggr_Insurance, 2021)"
   ]
  },
  {
   "cell_type": "code",
   "execution_count": 226,
   "metadata": {},
   "outputs": [],
   "source": [
    "def transaction_amount_count_Y_Q(df,quarter):\n",
    "\n",
    "    trans_amounta_count_Year=df[df[\"Quarter\"]==quarter]\n",
    "    trans_amounta_count_Year.reset_index(drop=True, inplace=True)\n",
    "\n",
    "    trans_amounta_count_Year_Group=trans_amounta_count_Year.groupby(\"States\")[[\"Transaction_Count\",\"Transaction_Amount\"]].sum()\n",
    "    trans_amounta_count_Year_Group.reset_index(inplace=True)\n",
    "\n",
    "    fig_amount=px.bar(trans_amounta_count_Year_Group, x=\"States\", y=\"Transaction_Amount\", title=f\"{tac_Y['Years'].unique()} YEAR {quarter} QUATER TRANSACTION AMOUNT\",\n",
    "                    color_discrete_sequence=px.colors.sequential.Aggrnyl, height=650, width=600)\n",
    "\n",
    "    fig_amount.show()\n",
    "\n",
    "\n",
    "    fig_count=px.bar(trans_amounta_count_Year_Group, x=\"States\", y=\"Transaction_Count\", title=f\"{tac_Y['Years'].unique()} YEAR {quarter} QUATER TRANSACTION COUNT\",\n",
    "                    color_discrete_sequence=px.colors.sequential.Bluered_r, height=650, width=600)\n",
    "\n",
    "    fig_count.show()\n",
    "\n",
    "    url= \"https://gist.githubusercontent.com/jbrobst/56c13bbbf9d97d187fea01ca62ea5112/raw/e388c4cae20aa53cb5090210a42ebb9b765c0a36/india_states.geojson\"\n",
    "    response=requests.get(url)\n",
    "    data1=json.loads(response.content)\n",
    "\n",
    "    states_Name=[]\n",
    "    for feature in data1[\"features\"]:\n",
    "        states_Name.append(feature[\"properties\"][\"ST_NM\"])\n",
    "\n",
    "    states_Name.sort()\n",
    "\n",
    "    fig_india_1=px.choropleth(trans_amounta_count_Year_Group, geojson=data1, locations=\"States\", featureidkey=\"properties.ST_NM\",\n",
    "                            color=\"Transaction_Amount\", color_continuous_scale=\"Rainbow\",\n",
    "                            range_color=(trans_amounta_count_Year_Group[\"Transaction_Amount\"].min(), trans_amounta_count_Year_Group[\"Transaction_Amount\"].max()),\n",
    "                            hover_name=\"States\",title=f\"{tac_Y['Years'].unique()} YEAR {quarter} QUATER TRANSACTION AMOUNT\" , fitbounds=\"locations\", height=600, width=600)\n",
    "    \n",
    "\n",
    "    fig_india_1.update_geos(visible=False)\n",
    "    fig_india_1.show()\n",
    "\n",
    "    fig_india_2=px.choropleth(trans_amounta_count_Year_Group, geojson=data1, locations=\"States\", featureidkey=\"properties.ST_NM\",\n",
    "                            color=\"Transaction_Count\", color_continuous_scale=\"Rainbow\",\n",
    "                            range_color=(trans_amounta_count_Year_Group[\"Transaction_Count\"].min(), trans_amounta_count_Year_Group[\"Transaction_Count\"].max()),\n",
    "                            hover_name=\"States\",title=f\"{tac_Y['Years'].unique()} YEAR {quarter} QUATER TRANSACTION COUNT\" , fitbounds=\"locations\", height=600, width=600)\n",
    "    \n",
    "    fig_india_2.update_geos(visible=False)\n",
    "    fig_india_2.show()\n",
    "\n",
    "\n",
    "    return trans_amounta_count_Year\n"
   ]
  },
  {
   "cell_type": "code",
   "execution_count": 97,
   "metadata": {},
   "outputs": [
    {
     "data": {
      "text/html": [
       "<div>\n",
       "<style scoped>\n",
       "    .dataframe tbody tr th:only-of-type {\n",
       "        vertical-align: middle;\n",
       "    }\n",
       "\n",
       "    .dataframe tbody tr th {\n",
       "        vertical-align: top;\n",
       "    }\n",
       "\n",
       "    .dataframe thead th {\n",
       "        text-align: right;\n",
       "    }\n",
       "</style>\n",
       "<table border=\"1\" class=\"dataframe\">\n",
       "  <thead>\n",
       "    <tr style=\"text-align: right;\">\n",
       "      <th></th>\n",
       "      <th>States</th>\n",
       "      <th>Years</th>\n",
       "      <th>Quarter</th>\n",
       "      <th>Transaction_Type</th>\n",
       "      <th>Transaction_Count</th>\n",
       "      <th>Transaction_Amount</th>\n",
       "    </tr>\n",
       "  </thead>\n",
       "  <tbody>\n",
       "    <tr>\n",
       "      <th>0</th>\n",
       "      <td>Andaman &amp; Nicobar</td>\n",
       "      <td>2018</td>\n",
       "      <td>1</td>\n",
       "      <td>Recharge &amp; bill payments</td>\n",
       "      <td>4200</td>\n",
       "      <td>1845307</td>\n",
       "    </tr>\n",
       "    <tr>\n",
       "      <th>1</th>\n",
       "      <td>Andaman &amp; Nicobar</td>\n",
       "      <td>2018</td>\n",
       "      <td>1</td>\n",
       "      <td>Peer-to-peer payments</td>\n",
       "      <td>1871</td>\n",
       "      <td>12138655</td>\n",
       "    </tr>\n",
       "    <tr>\n",
       "      <th>2</th>\n",
       "      <td>Andaman &amp; Nicobar</td>\n",
       "      <td>2018</td>\n",
       "      <td>1</td>\n",
       "      <td>Merchant payments</td>\n",
       "      <td>298</td>\n",
       "      <td>452507</td>\n",
       "    </tr>\n",
       "    <tr>\n",
       "      <th>3</th>\n",
       "      <td>Andaman &amp; Nicobar</td>\n",
       "      <td>2018</td>\n",
       "      <td>1</td>\n",
       "      <td>Financial Services</td>\n",
       "      <td>33</td>\n",
       "      <td>10601</td>\n",
       "    </tr>\n",
       "    <tr>\n",
       "      <th>4</th>\n",
       "      <td>Andaman &amp; Nicobar</td>\n",
       "      <td>2018</td>\n",
       "      <td>1</td>\n",
       "      <td>Others</td>\n",
       "      <td>256</td>\n",
       "      <td>184690</td>\n",
       "    </tr>\n",
       "    <tr>\n",
       "      <th>...</th>\n",
       "      <td>...</td>\n",
       "      <td>...</td>\n",
       "      <td>...</td>\n",
       "      <td>...</td>\n",
       "      <td>...</td>\n",
       "      <td>...</td>\n",
       "    </tr>\n",
       "    <tr>\n",
       "      <th>4309</th>\n",
       "      <td>West Bengal</td>\n",
       "      <td>2023</td>\n",
       "      <td>4</td>\n",
       "      <td>Merchant payments</td>\n",
       "      <td>354067997</td>\n",
       "      <td>239073842398</td>\n",
       "    </tr>\n",
       "    <tr>\n",
       "      <th>4310</th>\n",
       "      <td>West Bengal</td>\n",
       "      <td>2023</td>\n",
       "      <td>4</td>\n",
       "      <td>Peer-to-peer payments</td>\n",
       "      <td>317959249</td>\n",
       "      <td>964138540494</td>\n",
       "    </tr>\n",
       "    <tr>\n",
       "      <th>4311</th>\n",
       "      <td>West Bengal</td>\n",
       "      <td>2023</td>\n",
       "      <td>4</td>\n",
       "      <td>Recharge &amp; bill payments</td>\n",
       "      <td>64920775</td>\n",
       "      <td>45319429210</td>\n",
       "    </tr>\n",
       "    <tr>\n",
       "      <th>4312</th>\n",
       "      <td>West Bengal</td>\n",
       "      <td>2023</td>\n",
       "      <td>4</td>\n",
       "      <td>Financial Services</td>\n",
       "      <td>480740</td>\n",
       "      <td>459007296</td>\n",
       "    </tr>\n",
       "    <tr>\n",
       "      <th>4313</th>\n",
       "      <td>West Bengal</td>\n",
       "      <td>2023</td>\n",
       "      <td>4</td>\n",
       "      <td>Others</td>\n",
       "      <td>524477</td>\n",
       "      <td>404156680</td>\n",
       "    </tr>\n",
       "  </tbody>\n",
       "</table>\n",
       "<p>4314 rows × 6 columns</p>\n",
       "</div>"
      ],
      "text/plain": [
       "                 States  Years  Quarter          Transaction_Type  \\\n",
       "0     Andaman & Nicobar   2018        1  Recharge & bill payments   \n",
       "1     Andaman & Nicobar   2018        1     Peer-to-peer payments   \n",
       "2     Andaman & Nicobar   2018        1         Merchant payments   \n",
       "3     Andaman & Nicobar   2018        1        Financial Services   \n",
       "4     Andaman & Nicobar   2018        1                    Others   \n",
       "...                 ...    ...      ...                       ...   \n",
       "4309        West Bengal   2023        4         Merchant payments   \n",
       "4310        West Bengal   2023        4     Peer-to-peer payments   \n",
       "4311        West Bengal   2023        4  Recharge & bill payments   \n",
       "4312        West Bengal   2023        4        Financial Services   \n",
       "4313        West Bengal   2023        4                    Others   \n",
       "\n",
       "      Transaction_Count  Transaction_Amount  \n",
       "0                  4200             1845307  \n",
       "1                  1871            12138655  \n",
       "2                   298              452507  \n",
       "3                    33               10601  \n",
       "4                   256              184690  \n",
       "...                 ...                 ...  \n",
       "4309          354067997        239073842398  \n",
       "4310          317959249        964138540494  \n",
       "4311           64920775         45319429210  \n",
       "4312             480740           459007296  \n",
       "4313             524477           404156680  \n",
       "\n",
       "[4314 rows x 6 columns]"
      ]
     },
     "execution_count": 97,
     "metadata": {},
     "output_type": "execute_result"
    }
   ],
   "source": [
    "aggregated_Transaction"
   ]
  },
  {
   "cell_type": "code",
   "execution_count": null,
   "metadata": {},
   "outputs": [],
   "source": []
  },
  {
   "cell_type": "code",
   "execution_count": 113,
   "metadata": {},
   "outputs": [],
   "source": [
    "#Aggregatted Transaction using Transaction Type\n",
    "def Agg_trans_TranType(df, state):\n",
    "    trans_amounta_count_Year=df[df[\"States\"]==state]\n",
    "    trans_amounta_count_Year.reset_index(drop=True, inplace=True)\n",
    "\n",
    "    trans_amounta_count_Year_Group=trans_amounta_count_Year.groupby(\"Transaction_Type\")[[\"Transaction_Count\",\"Transaction_Amount\"]].sum()\n",
    "    trans_amounta_count_Year_Group.reset_index(inplace=True)\n",
    "\n",
    "    fig_pie_1=px.pie(data_frame= trans_amounta_count_Year_Group,names= \"Transaction_Type\", values= \"Transaction_Amount\",\n",
    "                        width=600, title=f\" TRANSACTION AMOUNT - {state} \", hole= 0.3)\n",
    "\n",
    "    fig_pie_1.show()\n",
    "\n",
    "    fig_pie_2=px.pie(data_frame= trans_amounta_count_Year_Group,names= \"Transaction_Type\", values= \"Transaction_Count\",\n",
    "                        width=600, title=f\" TRANSACTION COUNT - {state} \", hole= 0.3)\n",
    "\n",
    "    fig_pie_2.show()"
   ]
  },
  {
   "cell_type": "code",
   "execution_count": 156,
   "metadata": {},
   "outputs": [],
   "source": [
    "# Aggregated User Analysis_1\n",
    "def Aggr_User_plot_1(df, year):\n",
    "    Aguy=df[df[\"Years\"]==year]\n",
    "    Aguy.reset_index(inplace=True, drop=True)\n",
    "    Aguy_group=pd.DataFrame(Aguy.groupby(\"Brands\")[\"Transaction_Count\"].sum())\n",
    "    Aguy_group.reset_index(inplace=True)\n",
    "\n",
    "    fig_bar_1=px.bar(Aguy_group, x=\"Brands\", y=\"Transaction_Count\", title=f\"BRAND WISE TRANSACTION COUNT - {year}\", \n",
    "                        width=600, color_discrete_sequence=px.colors.sequential.haline, hover_name=\"Brands\")\n",
    "    fig_bar_1.show()\n",
    "\n",
    "    return Aguy"
   ]
  },
  {
   "cell_type": "code",
   "execution_count": 181,
   "metadata": {},
   "outputs": [],
   "source": [
    "#Aggregated User Plot based on Brands and Transaction count\n",
    "\n",
    "def Aggr_user_plot_Quater(df, Quarter):\n",
    "    AguyQ=df[df[\"Quarter\"]==Quarter]\n",
    "    AguyQ.reset_index(inplace=True, drop=True)\n",
    "    AguyQ_group= pd.DataFrame(AguyQ.groupby(\"Brands\")[\"Transaction_Count\"].sum())\n",
    "    AguyQ_group.reset_index(inplace=True)\n",
    "    fig_bar_2=px.bar(AguyQ_group, x=\"Brands\", y=\"Transaction_Count\", title=f\"{Quarter}rd QUARTER, BRAND WISE TRANSACTION COUNT \", \n",
    "                            width=600, color_discrete_sequence=px.colors.sequential.Magenta_r, hover_name=\"Brands\")\n",
    "    fig_bar_2.show()\n",
    "\n",
    "    return AguyQ"
   ]
  },
  {
   "cell_type": "code",
   "execution_count": 191,
   "metadata": {},
   "outputs": [],
   "source": [
    "#Aggregated User Plot based on States and Transaction count\n",
    "\n",
    "def Aggr_user_plot_State(df, state):\n",
    "    Aggr_user_year_Qua_State=df[df[\"States\"]==state]\n",
    "    Aggr_user_year_Qua_State.reset_index(inplace=True, drop=True)\n",
    "\n",
    "    fig_line_1=px.line(Aggr_user_year_Qua_State, x=\"Brands\", y=\"Transaction_Count\", hover_data=\"Percentage\",\n",
    "                        title=f\"TRANSACTION COUNT AND PERCENTAGE BASED ON BRANDS\", color_discrete_sequence=px.colors.sequential.Aggrnyl, \n",
    "                        width=1000, markers=True)\n",
    "    fig_line_1.show()\n",
    "    "
   ]
  },
  {
   "cell_type": "code",
   "execution_count": null,
   "metadata": {},
   "outputs": [],
   "source": [
    "#Map Insurance District wise\n",
    "def map_insu_District(df, state):\n",
    "    trans_amou_count_Year=df[df[\"States\"]==state]\n",
    "    trans_amou_count_Year.reset_index(drop=True, inplace=True)\n",
    "\n",
    "    trans_amounta_count_Year_Group=trans_amou_count_Year.groupby(\"Districts\")[[\"Transaction_Count\",\"Transaction_Amount\"]].sum()\n",
    "    trans_amounta_count_Year_Group.reset_index(inplace=True)\n",
    "\n",
    "    \n",
    "\n",
    "    fig_bar_1=px.bar(trans_amounta_count_Year_Group, x= \"Transaction_Amount\" , y=\"Districts\", orientation=\"h\", title=f\"{state} wise TRANSACTION AMOUNT WITH DISTRICTS\", color_discrete_sequence=px.colors.sequential.Redor_r)\n",
    "    fig_bar_1.show()\n",
    "\n",
    "    fig_bar_2=px.bar(trans_amounta_count_Year_Group, x= \"Transaction_Count\" , y=\"Districts\", orientation=\"h\", title=f\"{state} wise TRANSACTION COUNT WITH DISTRICTS\", color_discrete_sequence=px.colors.sequential.Bluered)\n",
    "    fig_bar_2.show()"
   ]
  },
  {
   "cell_type": "code",
   "execution_count": 263,
   "metadata": {},
   "outputs": [],
   "source": [
    "# Map User Year wise register user and app open\n",
    "def map_user_plot_1(df, year):\n",
    "    muy=df[df[\"Years\"]==year]\n",
    "    muy.reset_index(inplace=True, drop=True)\n",
    "    map_us_group=pd.DataFrame(muy.groupby(\"States\")[[\"Register_User\",\"App_Open\"]].sum())\n",
    "    map_us_group.reset_index(inplace=True)\n",
    "\n",
    "    fig_line_1=px.line(map_us_group, x=\"States\", y=[\"Register_User\",\"App_Open\"], \n",
    "                            title=f\"REGISTER USER AND APP OPEN IN STATE WISE - {year}\", \n",
    "                            width=1000, height=800,markers=True)\n",
    "    fig_line_1.show()\n",
    "    \n",
    "    return muy"
   ]
  },
  {
   "cell_type": "code",
   "execution_count": null,
   "metadata": {},
   "outputs": [],
   "source": [
    "# Map User quarter wise register user and app open\n",
    "def map_user_plot_2(df, quarter):\n",
    "    muyQ=df[df[\"Quarter\"]==quarter]\n",
    "    muyQ.reset_index(inplace=True, drop=True)\n",
    "    map_us_group=pd.DataFrame(muyQ.groupby(\"States\")[[\"Register_User\",\"App_Open\"]].sum())\n",
    "    map_us_group.reset_index(inplace=True)\n",
    "\n",
    "    fig_line_2=px.line(map_us_group, x=\"States\", y=[\"Register_User\",\"App_Open\"], \n",
    "                            title=f\"REGISTER USER AND APP OPEN IN QUARTER - {quarter}\", \n",
    "                            width=1000, height=800,markers=True)\n",
    "    fig_line_2.show()\n",
    "    \n",
    "    return muyQ"
   ]
  },
  {
   "cell_type": "code",
   "execution_count": 287,
   "metadata": {},
   "outputs": [],
   "source": [
    "# Map user Registered User and App open Details district wise\n",
    "def map_user_plot_3(df, state):\n",
    "    muyQS=df[df[\"States\"]==state]\n",
    "    muyQS.reset_index(inplace=True, drop=True)\n",
    "\n",
    "    fig_bar_1=px.bar(muyQS, x=\"Register_User\", y=\"Districts\", orientation=\"h\",\n",
    "                    title=f\"REGISTERED USER DETAILS DISTRICT WISE\", height=800, color_discrete_sequence=px.colors.sequential.algae_r)\n",
    "    fig_bar_1.show()\n",
    "\n",
    "    fig_bar_2=px.bar(muyQS, x=\"App_Open\", y=\"Districts\", orientation=\"h\",\n",
    "                    title=f\"App_Open DETAILS DISTRICT WISE\", height=800, color_discrete_sequence=px.colors.sequential.amp_r)\n",
    "    fig_bar_2.show()"
   ]
  },
  {
   "cell_type": "code",
   "execution_count": 309,
   "metadata": {},
   "outputs": [],
   "source": [
    "#Top Insurance Quater wise Transaction Amount\n",
    "def top_ins_plot_1(df, state):\n",
    "    top_ins_Y=df[df[\"States\"]==\"West Bengal\"]\n",
    "    top_ins_Y.reset_index(inplace=True, drop=True)\n",
    "    \n",
    "    top_ins_fig_bar_1=px.bar(top_ins_Y, x=\"Quarter\", y=\"Transaction_Amount\", hover_data=\"Pincodes\",\n",
    "                        title=f\"TRANSACTION AMOUNT PINCODE WISE\", height=800, color_discrete_sequence=px.colors.sequential.BuPu_r)\n",
    "    top_ins_fig_bar_1.show()\n",
    "\n",
    "    top_ins_fig_bar_1=px.bar(top_ins_Y, x=\"Quarter\", y=\"Transaction_Count\", hover_data=\"Pincodes\",\n",
    "                        title=f\"TRANSACTION COUNT PINCODE WISE\", height=800, color_discrete_sequence=px.colors.sequential.BuPu_r)\n",
    "    top_ins_fig_bar_1.show()"
   ]
  },
  {
   "cell_type": "code",
   "execution_count": null,
   "metadata": {},
   "outputs": [],
   "source": [
    "#Top User Register User plot using States and Quater\n",
    "def top_register_Plot_1(df, year):\n",
    "    top_user_Y=df[df[\"Years\"]==year]\n",
    "    top_user_Y.reset_index(inplace=True, drop=True)\n",
    "\n",
    "    top_user_Y_G=pd.DataFrame(top_user_Y.groupby([\"States\", \"Quarter\"])[\"Register_User\"].sum())\n",
    "    top_user_Y_G.reset_index(inplace=True)\n",
    "\n",
    "\n",
    "    top_user_fig_plot_1=px.bar(top_user_Y_G, x=\"States\", y=\"Register_User\", color=\"Quarter\", width=1000, height=800,\n",
    "                            color_discrete_sequence=px.colors.sequential.Rainbow, hover_name=\"States\")\n",
    "    top_user_fig_plot_1.show()\n",
    "\n",
    "    return top_user_Y"
   ]
  },
  {
   "cell_type": "code",
   "execution_count": 336,
   "metadata": {},
   "outputs": [],
   "source": [
    "#top user plot for register user based on Quarter and Pincode\n",
    "def top_user_plot_2(df, states):\n",
    "    tuyS=df[df[\"States\"]==states]\n",
    "    tuyS.reset_index(inplace=True, drop=True)\n",
    "\n",
    "    top_fig_Plot_2=px.bar(tuyS, x=\"Quarter\" , y=\"Register_User\", title=f\"REGISTERED USER BASED ON QUARTER\", \n",
    "                        width=1000, height=800, color=\"Register_User\", hover_name=\"Pincodes\", \n",
    "                        color_discrete_sequence=px.colors.sequential.Magenta_r)\n",
    "    top_fig_Plot_2.show()"
   ]
  },
  {
   "cell_type": "markdown",
   "metadata": {},
   "source": [
    "## Aggregated Insurance"
   ]
  },
  {
   "cell_type": "code",
   "execution_count": null,
   "metadata": {},
   "outputs": [],
   "source": [
    "tac_Y=transaction_amount_count_Y(aggr_Insurance,2023)"
   ]
  },
  {
   "cell_type": "code",
   "execution_count": null,
   "metadata": {},
   "outputs": [],
   "source": [
    "transaction_amount_count_Y_Q(tac_Y, 2)"
   ]
  },
  {
   "cell_type": "markdown",
   "metadata": {},
   "source": [
    "## Aggregated_Transaction"
   ]
  },
  {
   "cell_type": "code",
   "execution_count": null,
   "metadata": {},
   "outputs": [],
   "source": [
    "Agg_tran_tac_Y=transaction_amount_count_Y(aggregated_Transaction, 2023)"
   ]
  },
  {
   "cell_type": "code",
   "execution_count": null,
   "metadata": {},
   "outputs": [],
   "source": [
    "Agg_trans_TranType(Agg_tran_tac_Y,\"Andaman & Nicobar\")"
   ]
  },
  {
   "cell_type": "code",
   "execution_count": null,
   "metadata": {},
   "outputs": [],
   "source": [
    "Agg_tran_tac_Y_Q=transaction_amount_count_Y_Q(Agg_tran_tac_Y,3)\n"
   ]
  },
  {
   "cell_type": "code",
   "execution_count": null,
   "metadata": {},
   "outputs": [],
   "source": [
    "Agg_trans_TranType(Agg_tran_tac_Y_Q,\"Andaman & Nicobar\")"
   ]
  },
  {
   "cell_type": "markdown",
   "metadata": {},
   "source": [
    "### Aggregated User Data"
   ]
  },
  {
   "cell_type": "code",
   "execution_count": null,
   "metadata": {},
   "outputs": [],
   "source": [
    "# aggregated User filter with Year\n",
    "Aggr_User_Year=Aggr_User_plot_1(aggregated_Users,2020)"
   ]
  },
  {
   "cell_type": "code",
   "execution_count": null,
   "metadata": {},
   "outputs": [],
   "source": [
    "df=Aggr_User_Year\n",
    "Quarter=3\n",
    "Aggr_User_Year_Quarter=Aggr_user_plot_Quater(df, Quarter)\n",
    "Aggr_User_Year_Quarter"
   ]
  },
  {
   "cell_type": "code",
   "execution_count": null,
   "metadata": {},
   "outputs": [],
   "source": [
    "Aggr_user_plot_State(Aggr_User_Year_Quarter,\"Andaman & Nicobar\")"
   ]
  },
  {
   "cell_type": "markdown",
   "metadata": {},
   "source": [
    "### Map Insurance Data"
   ]
  },
  {
   "cell_type": "code",
   "execution_count": null,
   "metadata": {},
   "outputs": [],
   "source": [
    "map_insu_tac_Y=transaction_amount_count_Y(map_Insurance, 2023)"
   ]
  },
  {
   "cell_type": "code",
   "execution_count": null,
   "metadata": {},
   "outputs": [],
   "source": [
    "map_insu_District(map_insu_tac_Y,\"West Bengal\")"
   ]
  },
  {
   "cell_type": "code",
   "execution_count": null,
   "metadata": {},
   "outputs": [],
   "source": [
    "map_insu_tac_Y_Q=transaction_amount_count_Y_Q(map_insu_tac_Y,3)"
   ]
  },
  {
   "cell_type": "code",
   "execution_count": null,
   "metadata": {},
   "outputs": [],
   "source": [
    "map_insu_District(map_insu_tac_Y_Q,\"West Bengal\")"
   ]
  },
  {
   "cell_type": "markdown",
   "metadata": {},
   "source": [
    "### Map Transaction"
   ]
  },
  {
   "cell_type": "code",
   "execution_count": null,
   "metadata": {},
   "outputs": [],
   "source": [
    "map_tran_tac_Y=transaction_amount_count_Y(map_Transaction, 2023)"
   ]
  },
  {
   "cell_type": "code",
   "execution_count": null,
   "metadata": {},
   "outputs": [],
   "source": [
    "map_insu_District(map_tran_tac_Y,\"West Bengal\")"
   ]
  },
  {
   "cell_type": "code",
   "execution_count": null,
   "metadata": {},
   "outputs": [],
   "source": [
    "map_trans_tac_Y_Q=transaction_amount_count_Y_Q(map_tran_tac_Y,3)"
   ]
  },
  {
   "cell_type": "code",
   "execution_count": null,
   "metadata": {},
   "outputs": [],
   "source": [
    "map_insu_District(map_trans_tac_Y_Q,\"West Bengal\")"
   ]
  },
  {
   "cell_type": "markdown",
   "metadata": {},
   "source": [
    "### Map Users Data"
   ]
  },
  {
   "cell_type": "code",
   "execution_count": null,
   "metadata": {},
   "outputs": [],
   "source": [
    "map_user_Y=map_user_plot_1(map_Users, 2020)"
   ]
  },
  {
   "cell_type": "code",
   "execution_count": null,
   "metadata": {},
   "outputs": [],
   "source": [
    "Map_user_Y_Q=map_user_plot_2(map_user_Y, 2)"
   ]
  },
  {
   "cell_type": "code",
   "execution_count": null,
   "metadata": {},
   "outputs": [],
   "source": [
    "map_user_plot_3(Map_user_Y_Q,\"Tamil Nadu\")"
   ]
  },
  {
   "cell_type": "markdown",
   "metadata": {},
   "source": [
    "### Top Insurance"
   ]
  },
  {
   "cell_type": "code",
   "execution_count": null,
   "metadata": {},
   "outputs": [],
   "source": [
    "top_insu_tac_Y=transaction_amount_count_Y(top_Insurance, 2023)"
   ]
  },
  {
   "cell_type": "code",
   "execution_count": null,
   "metadata": {},
   "outputs": [],
   "source": [
    "Aggr_user_plot_State(top_insu_tac_Y,\"West Bengal\")"
   ]
  },
  {
   "cell_type": "code",
   "execution_count": null,
   "metadata": {},
   "outputs": [],
   "source": [
    "top_insu_tac_Y_Q=transaction_amount_count_Y_Q(top_insu_tac_Y,3)"
   ]
  },
  {
   "cell_type": "markdown",
   "metadata": {},
   "source": [
    "### Top Transaction"
   ]
  },
  {
   "cell_type": "code",
   "execution_count": null,
   "metadata": {},
   "outputs": [],
   "source": [
    "top_trans_tac_Y=transaction_amount_count_Y(top_Transaction, 2023)"
   ]
  },
  {
   "cell_type": "code",
   "execution_count": null,
   "metadata": {},
   "outputs": [],
   "source": [
    "Aggr_user_plot_State(top_trans_tac_Y,\"West Bengal\")"
   ]
  },
  {
   "cell_type": "code",
   "execution_count": null,
   "metadata": {},
   "outputs": [],
   "source": [
    "top_trans_tac_Y_Q=transaction_amount_count_Y_Q(top_trans_tac_Y,3)"
   ]
  },
  {
   "cell_type": "markdown",
   "metadata": {},
   "source": [
    "### Top Users"
   ]
  },
  {
   "cell_type": "code",
   "execution_count": null,
   "metadata": {},
   "outputs": [],
   "source": [
    "top_us_Y=top_register_Plot_1(top_users,2021)"
   ]
  },
  {
   "cell_type": "code",
   "execution_count": null,
   "metadata": {},
   "outputs": [],
   "source": [
    "top_user_plot_2(top_us_Y,\"Tamil Nadu\")"
   ]
  },
  {
   "cell_type": "code",
   "execution_count": 316,
   "metadata": {},
   "outputs": [
    {
     "data": {
      "text/html": [
       "<div>\n",
       "<style scoped>\n",
       "    .dataframe tbody tr th:only-of-type {\n",
       "        vertical-align: middle;\n",
       "    }\n",
       "\n",
       "    .dataframe tbody tr th {\n",
       "        vertical-align: top;\n",
       "    }\n",
       "\n",
       "    .dataframe thead th {\n",
       "        text-align: right;\n",
       "    }\n",
       "</style>\n",
       "<table border=\"1\" class=\"dataframe\">\n",
       "  <thead>\n",
       "    <tr style=\"text-align: right;\">\n",
       "      <th></th>\n",
       "      <th>States</th>\n",
       "      <th>Years</th>\n",
       "      <th>Quarter</th>\n",
       "      <th>Pincodes</th>\n",
       "      <th>Register_User</th>\n",
       "    </tr>\n",
       "  </thead>\n",
       "  <tbody>\n",
       "    <tr>\n",
       "      <th>0</th>\n",
       "      <td>Andaman &amp; Nicobar</td>\n",
       "      <td>2018</td>\n",
       "      <td>1</td>\n",
       "      <td>744103</td>\n",
       "      <td>1608</td>\n",
       "    </tr>\n",
       "    <tr>\n",
       "      <th>1</th>\n",
       "      <td>Andaman &amp; Nicobar</td>\n",
       "      <td>2018</td>\n",
       "      <td>1</td>\n",
       "      <td>744101</td>\n",
       "      <td>1108</td>\n",
       "    </tr>\n",
       "    <tr>\n",
       "      <th>2</th>\n",
       "      <td>Andaman &amp; Nicobar</td>\n",
       "      <td>2018</td>\n",
       "      <td>1</td>\n",
       "      <td>744105</td>\n",
       "      <td>1075</td>\n",
       "    </tr>\n",
       "    <tr>\n",
       "      <th>3</th>\n",
       "      <td>Andaman &amp; Nicobar</td>\n",
       "      <td>2018</td>\n",
       "      <td>1</td>\n",
       "      <td>744102</td>\n",
       "      <td>1006</td>\n",
       "    </tr>\n",
       "    <tr>\n",
       "      <th>4</th>\n",
       "      <td>Andaman &amp; Nicobar</td>\n",
       "      <td>2018</td>\n",
       "      <td>1</td>\n",
       "      <td>744104</td>\n",
       "      <td>272</td>\n",
       "    </tr>\n",
       "    <tr>\n",
       "      <th>...</th>\n",
       "      <td>...</td>\n",
       "      <td>...</td>\n",
       "      <td>...</td>\n",
       "      <td>...</td>\n",
       "      <td>...</td>\n",
       "    </tr>\n",
       "    <tr>\n",
       "      <th>8563</th>\n",
       "      <td>West Bengal</td>\n",
       "      <td>2023</td>\n",
       "      <td>4</td>\n",
       "      <td>700015</td>\n",
       "      <td>126663</td>\n",
       "    </tr>\n",
       "    <tr>\n",
       "      <th>8564</th>\n",
       "      <td>West Bengal</td>\n",
       "      <td>2023</td>\n",
       "      <td>4</td>\n",
       "      <td>742304</td>\n",
       "      <td>123320</td>\n",
       "    </tr>\n",
       "    <tr>\n",
       "      <th>8565</th>\n",
       "      <td>West Bengal</td>\n",
       "      <td>2023</td>\n",
       "      <td>4</td>\n",
       "      <td>721101</td>\n",
       "      <td>123088</td>\n",
       "    </tr>\n",
       "    <tr>\n",
       "      <th>8566</th>\n",
       "      <td>West Bengal</td>\n",
       "      <td>2023</td>\n",
       "      <td>4</td>\n",
       "      <td>700150</td>\n",
       "      <td>119283</td>\n",
       "    </tr>\n",
       "    <tr>\n",
       "      <th>8567</th>\n",
       "      <td>West Bengal</td>\n",
       "      <td>2023</td>\n",
       "      <td>4</td>\n",
       "      <td>700091</td>\n",
       "      <td>118578</td>\n",
       "    </tr>\n",
       "  </tbody>\n",
       "</table>\n",
       "<p>8568 rows × 5 columns</p>\n",
       "</div>"
      ],
      "text/plain": [
       "                 States  Years  Quarter  Pincodes  Register_User\n",
       "0     Andaman & Nicobar   2018        1    744103           1608\n",
       "1     Andaman & Nicobar   2018        1    744101           1108\n",
       "2     Andaman & Nicobar   2018        1    744105           1075\n",
       "3     Andaman & Nicobar   2018        1    744102           1006\n",
       "4     Andaman & Nicobar   2018        1    744104            272\n",
       "...                 ...    ...      ...       ...            ...\n",
       "8563        West Bengal   2023        4    700015         126663\n",
       "8564        West Bengal   2023        4    742304         123320\n",
       "8565        West Bengal   2023        4    721101         123088\n",
       "8566        West Bengal   2023        4    700150         119283\n",
       "8567        West Bengal   2023        4    700091         118578\n",
       "\n",
       "[8568 rows x 5 columns]"
      ]
     },
     "execution_count": 316,
     "metadata": {},
     "output_type": "execute_result"
    }
   ],
   "source": [
    "top_users"
   ]
  }
 ],
 "metadata": {
  "kernelspec": {
   "display_name": "Python 3",
   "language": "python",
   "name": "python3"
  },
  "language_info": {
   "codemirror_mode": {
    "name": "ipython",
    "version": 3
   },
   "file_extension": ".py",
   "mimetype": "text/x-python",
   "name": "python",
   "nbconvert_exporter": "python",
   "pygments_lexer": "ipython3",
   "version": "3.11.2"
  }
 },
 "nbformat": 4,
 "nbformat_minor": 2
}
